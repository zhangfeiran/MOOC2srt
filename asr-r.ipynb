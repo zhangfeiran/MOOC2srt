{
 "cells": [
  {
   "cell_type": "code",
   "execution_count": 2,
   "id": "fd39192f-5234-4aad-8945-53f5f097562d",
   "metadata": {
    "execution": {
     "iopub.execute_input": "2023-09-25T05:40:17.817071Z",
     "iopub.status.busy": "2023-09-25T05:40:17.816210Z",
     "iopub.status.idle": "2023-09-25T05:40:21.016745Z",
     "shell.execute_reply": "2023-09-25T05:40:21.015616Z"
    },
    "scrolled": true,
    "tags": []
   },
   "outputs": [
    {
     "name": "stderr",
     "output_type": "stream",
     "text": [
      "── \u001b[1mAttaching core tidyverse packages\u001b[22m ─────────────────────────────────────────────── tidyverse 2.0.0 ──\n",
      "\u001b[32m✔\u001b[39m \u001b[34mdplyr    \u001b[39m 1.1.2     \u001b[32m✔\u001b[39m \u001b[34mreadr    \u001b[39m 2.1.4\n",
      "\u001b[32m✔\u001b[39m \u001b[34mforcats  \u001b[39m 1.0.0     \u001b[32m✔\u001b[39m \u001b[34mstringr  \u001b[39m 1.5.0\n",
      "\u001b[32m✔\u001b[39m \u001b[34mggplot2  \u001b[39m 3.4.2     \u001b[32m✔\u001b[39m \u001b[34mtibble   \u001b[39m 3.2.1\n",
      "\u001b[32m✔\u001b[39m \u001b[34mlubridate\u001b[39m 1.9.2     \u001b[32m✔\u001b[39m \u001b[34mtidyr    \u001b[39m 1.3.0\n",
      "\u001b[32m✔\u001b[39m \u001b[34mpurrr    \u001b[39m 1.0.1     \n",
      "── \u001b[1mConflicts\u001b[22m ───────────────────────────────────────────────────────────────── tidyverse_conflicts() ──\n",
      "\u001b[31m✖\u001b[39m \u001b[34mtidyr\u001b[39m::\u001b[32mexpand()\u001b[39m    masks \u001b[34mMatrix\u001b[39m::expand()\n",
      "\u001b[31m✖\u001b[39m \u001b[34mtidyr\u001b[39m::\u001b[32mextract()\u001b[39m   masks \u001b[34mmagrittr\u001b[39m::extract()\n",
      "\u001b[31m✖\u001b[39m \u001b[34mdplyr\u001b[39m::\u001b[32mfilter()\u001b[39m    masks \u001b[34mstats\u001b[39m::filter()\n",
      "\u001b[31m✖\u001b[39m \u001b[34mdplyr\u001b[39m::\u001b[32mlag()\u001b[39m       masks \u001b[34mstats\u001b[39m::lag()\n",
      "\u001b[31m✖\u001b[39m \u001b[34mtidyr\u001b[39m::\u001b[32mpack()\u001b[39m      masks \u001b[34mMatrix\u001b[39m::pack()\n",
      "\u001b[31m✖\u001b[39m \u001b[34mpurrr\u001b[39m::\u001b[32mset_names()\u001b[39m masks \u001b[34mmagrittr\u001b[39m::set_names()\n",
      "\u001b[31m✖\u001b[39m \u001b[34mtidyr\u001b[39m::\u001b[32munpack()\u001b[39m    masks \u001b[34mMatrix\u001b[39m::unpack()\n",
      "\u001b[36mℹ\u001b[39m Use the conflicted package (\u001b[3m\u001b[34m<http://conflicted.r-lib.org/>\u001b[39m\u001b[23m) to force all conflicts to become errors\n",
      "The legacy packages maptools, rgdal, and rgeos, underpinning this package\n",
      "will retire shortly. Please refer to R-spatial evolution reports on\n",
      "https://r-spatial.org/r/2023/05/15/evolution4.html for details.\n",
      "This package is now running under evolution status 0 \n",
      "\n",
      "Attaching SeuratObject\n",
      "\n",
      "The following object is masked from package:ggplot2:\n",
      "\n",
      "    %+%\n",
      "\n",
      "\n"
     ]
    }
   ],
   "source": [
    "source('~/lab/test/libr.R')"
   ]
  },
  {
   "cell_type": "code",
   "execution_count": 3,
   "id": "0a6e913e-bb2a-4ec5-81b1-7868eef7265b",
   "metadata": {
    "execution": {
     "iopub.execute_input": "2023-09-25T05:40:21.029889Z",
     "iopub.status.busy": "2023-09-25T05:40:21.029126Z",
     "iopub.status.idle": "2023-09-25T05:40:21.037977Z",
     "shell.execute_reply": "2023-09-25T05:40:21.036911Z"
    },
    "tags": []
   },
   "outputs": [
    {
     "data": {
      "text/html": [
       "<span style=white-space:pre-wrap>'1\\n00:00:35,221 --&gt; 00:00:38,891\\n(ｾﾚﾅ)ﾎﾟｹﾓﾝｾﾝﾀｰ  たしか この辺りなんだけど｡\\n'</span>"
      ],
      "text/plain": [
       "[1] \"1\\n00:00:35,221 --> 00:00:38,891\\n(ｾﾚﾅ)ﾎﾟｹﾓﾝｾﾝﾀｰ  たしか この辺りなんだけど｡\\n\""
      ]
     },
     "metadata": {},
     "output_type": "display_data"
    }
   ],
   "source": [
    "'1\n",
    "00:00:35,221 --> 00:00:38,891\n",
    "(ｾﾚﾅ)ﾎﾟｹﾓﾝｾﾝﾀｰ  たしか この辺りなんだけど｡\n",
    "'"
   ]
  },
  {
   "cell_type": "code",
   "execution_count": null,
   "id": "07138f6e-8a79-4c8a-b995-95f29aaff881",
   "metadata": {},
   "outputs": [],
   "source": []
  },
  {
   "cell_type": "code",
   "execution_count": 36,
   "id": "f47327fc-5292-409f-8150-15703ae06b13",
   "metadata": {
    "execution": {
     "iopub.execute_input": "2023-09-25T06:23:35.552552Z",
     "iopub.status.busy": "2023-09-25T06:23:35.551616Z",
     "iopub.status.idle": "2023-09-25T06:23:35.559480Z",
     "shell.execute_reply": "2023-09-25T06:23:35.558324Z"
    },
    "tags": []
   },
   "outputs": [],
   "source": [
    "setwd('~/desk/asr')"
   ]
  },
  {
   "cell_type": "markdown",
   "id": "df49553c-0c45-4e8a-847a-73bec1d029ff",
   "metadata": {},
   "source": [
    "# mp4 2 wav"
   ]
  },
  {
   "cell_type": "code",
   "execution_count": 7,
   "id": "eaaf5ef1-3ebe-4f4e-9daa-54c4aeea899f",
   "metadata": {
    "execution": {
     "iopub.execute_input": "2023-09-25T06:02:42.218723Z",
     "iopub.status.busy": "2023-09-25T06:02:42.217618Z",
     "iopub.status.idle": "2023-09-25T06:02:42.228305Z",
     "shell.execute_reply": "2023-09-25T06:02:42.227097Z"
    },
    "tags": []
   },
   "outputs": [
    {
     "name": "stdout",
     "output_type": "stream",
     "text": [
      "/home/frz/miniconda3/envs/util/bin:/home/frz/miniconda3/envs/jl/bin:/home/frz/miniconda3/bin:/home/frz/miniconda3/condabin:/home/frz/bin:/usr/local/sbin:/usr/local/bin:/usr/sbin:/usr/bin:/sbin:/bin:/usr/games:/usr/local/games:/snap/bin:/usr/lib/wsl/lib:/home/frz/.fzf/bin"
     ]
    }
   ],
   "source": [
    "Sys.setenv(PATH = s(\"~/miniconda3/envs/util/bin:\" %>% path.expand, Sys.getenv(\"PATH\")))\n",
    "Sys.getenv('PATH') %>% cat"
   ]
  },
  {
   "cell_type": "code",
   "execution_count": 8,
   "id": "bdc07ee0-e6d8-4b40-ad07-66df0604c40e",
   "metadata": {
    "execution": {
     "iopub.execute_input": "2023-09-25T06:02:47.571003Z",
     "iopub.status.busy": "2023-09-25T06:02:47.569919Z",
     "iopub.status.idle": "2023-09-25T06:02:47.617278Z",
     "shell.execute_reply": "2023-09-25T06:02:47.616016Z"
    },
    "scrolled": true,
    "tags": []
   },
   "outputs": [
    {
     "name": "stdout",
     "output_type": "stream",
     "text": [
      "Hyper fast Audio and Video encoder\n",
      "usage: ffmpeg [options] [[infile options] -i infile]... {[outfile options] outfile}...\n",
      "\n",
      "Getting help:\n",
      "    -h      -- print basic options\n",
      "    -h long -- print more options\n",
      "    -h full -- print all options (including all format and codec specific options, very long)\n",
      "    -h type=name -- print all options for the named decoder/encoder/demuxer/muxer/filter/bsf/protocol\n",
      "    See man ffmpeg for detailed description of the options.\n",
      "\n",
      "Print help / information / capabilities:\n",
      "-L                  show license\n",
      "-h topic            show help\n",
      "-? topic            show help\n",
      "-help topic         show help\n",
      "--help topic        show help\n",
      "-version            show version\n",
      "-buildconf          show build configuration\n",
      "-formats            show available formats\n",
      "-muxers             show available muxers\n",
      "-demuxers           show available demuxers\n",
      "-devices            show available devices\n",
      "-codecs             show available codecs\n",
      "-decoders           show available decoders\n",
      "-encoders           show available encoders\n",
      "-bsfs               show available bit stream filters\n",
      "-protocols          show available protocols\n",
      "-filters            show available filters\n",
      "-pix_fmts           show available pixel formats\n",
      "-layouts            show standard channel layouts\n",
      "-sample_fmts        show available audio sample formats\n",
      "-dispositions       show available stream dispositions\n",
      "-colors             show available color names\n",
      "-sources device     list sources of the input device\n",
      "-sinks device       list sinks of the output device\n",
      "-hwaccels           show available HW acceleration methods\n",
      "\n",
      "Global options (affect whole program instead of just one file):\n",
      "-loglevel loglevel  set logging level\n",
      "-v loglevel         set logging level\n",
      "-report             generate a report\n",
      "-max_alloc bytes    set maximum size of a single allocated block\n",
      "-y                  overwrite output files\n",
      "-n                  never overwrite output files\n",
      "-ignore_unknown     Ignore unknown stream types\n",
      "-filter_threads \u001b[31mffmpeg version 5.1.2 Copyright (c) 2000-2022 the FFmpeg developers\n",
      "  built with gcc 11.3.0 (conda-forge gcc 11.3.0-19)\n",
      "  configuration: --prefix=/home/conda/feedstock_root/build_artifacts/ffmpeg_1674566204550/_h_env_placehold_placehold_placehold_placehold_placehold_placehold_placehold_placehold_placehold_placehold_placehold_placehold_placehold_placehold_placehold_placehold_placehold_placehold_plac --cc=/home/conda/feedstock_root/build_artifacts/ffmpeg_1674566204550/_build_env/bin/x86_64-conda-linux-gnu-cc --cxx=/home/conda/feedstock_root/build_artifacts/ffmpeg_1674566204550/_build_env/bin/x86_64-conda-linux-gnu-c++ --nm=/home/conda/feedstock_root/build_artifacts/ffmpeg_1674566204550/_build_env/bin/x86_64-conda-linux-gnu-nm --ar=/home/conda/feedstock_root/build_artifacts/ffmpeg_1674566204550/_build_env/bin/x86_64-conda-linux-gnu-ar --disable-doc --disable-openssl --enable-demuxer=dash --enable-hardcoded-tables --enable-libfreetype --enable-libfontconfig --enable-libopenh264 --enable-gnutls --enable-libmp3lame --enable-libvpx --enable-pthreads --enable-vaapi --enable-gpl --enable-libx264 --enable-libx265 --enable-libaom --enable-libsvtav1 --enable-libxml2 --enable-pic --enable-shared --disable-static --enable-version3 --enable-zlib --enable-libopus --pkg-config=/home/conda/feedstock_root/build_artifacts/ffmpeg_1674566204550/_build_env/bin/pkg-config\n",
      "  libavutil      57. 28.100 / 57. 28.100\n",
      "  libavcodec     59. 37.100 / 59. 37.100\n",
      "  libavformat    59. 27.100 / 59. 27.100\n",
      "  libavdevice    59.  7.100 / 59.  7.100\n",
      "  libavfilter     8. 44.100 /  8. 44.100\n",
      "  libswscale      6.  7.100 /  6.  7.100\n",
      "  libswresample   4.  7.100 /  4.  7.100\n",
      "  libpostproc    56.  6.100 / 56.  6.100\n",
      "\u001b[39m    number of non-complex filter threads\n",
      "-filter_complex_threads  number of threads for -filter_complex\n",
      "-stats              print progress report during encoding\n",
      "-max_error_rate maximum error rate  ratio of decoding errors (0.0: no errors, 1.0: 100% errors) above which ffmpeg returns an error instead of success.\n",
      "-vol volume         change audio volume (256=normal)\n",
      "\n",
      "Per-file main options:\n",
      "-f fmt              force format\n",
      "-c codec            codec name\n",
      "-codec codec        codec name\n",
      "-pre preset         preset name\n",
      "-map_metadata outfile[,metadata]:infile[,metadata]  set metadata information of outfile from infile\n",
      "-t duration         record or transcode \"duration\" seconds of audio/video\n",
      "-to time_stop       record or transcode stop time\n",
      "-fs limit_size      set the limit file size in bytes\n",
      "-ss time_off        set the start time offset\n",
      "-sseof time_off     set the start time offset relative to EOF\n",
      "-seek_timestamp     enable/disable seeking by timestamp with -ss\n",
      "-timestamp time     set the recording timestamp ('now' to set the current time)\n",
      "-metadata string=string  add metadata\n",
      "-program title=string:st=number...  add program with specified streams\n",
      "-target type        specify target file type (\"vcd\", \"svcd\", \"dvd\", \"dv\" or \"dv50\" with optional prefixes \"pal-\", \"ntsc-\" or \"film-\")\n",
      "-apad               audio pad\n",
      "-frames number      set the number of frames to output\n",
      "-filter filter_graph  set stream filtergraph\n",
      "-filter_script filename  read stream filtergraph description from a file\n",
      "-reinit_filter      reinit filtergraph on input parameter changes\n",
      "-discard            discard\n",
      "-disposition        disposition\n",
      "\n",
      "Video options:\n",
      "-vframes number     set the number of video frames to output\n",
      "-r rate             set frame rate (Hz value, fraction or abbreviation)\n",
      "-fpsmax rate        set max frame rate (Hz value, fraction or abbreviation)\n",
      "-s size             set frame size (WxH or abbreviation)\n",
      "-aspect aspect      set aspect ratio (4:3, 16:9 or 1.3333, 1.7777)\n",
      "-vn                 disable video\n",
      "-vcodec codec       force video codec ('copy' to copy stream)\n",
      "-timecode hh:mm:ss[:;.]ff  set initial TimeCode value.\n",
      "-pass n             select the pass number (1 to 3)\n",
      "-vf filter_graph    set video filters\n",
      "-ab bitrate         audio bitrate (please use -b:a)\n",
      "-b bitrate          video bitrate (please use -b:v)\n",
      "-dn                 disable data\n",
      "\n",
      "Audio options:\n",
      "-aframes number     set the number of audio frames to output\n",
      "-aq quality         set audio quality (codec-specific)\n",
      "-ar rate            set audio sampling rate (in Hz)\n",
      "-ac channels        set number of audio channels\n",
      "-an                 disable audio\n",
      "-acodec codec       force audio codec ('copy' to copy stream)\n",
      "-vol volume         change audio volume (256=normal)\n",
      "-af filter_graph    set audio filters\n",
      "\n",
      "Subtitle options:\n",
      "-s size             set frame size (WxH or abbreviation)\n",
      "-sn                 disable subtitle\n",
      "-scodec codec       force subtitle codec ('copy' to copy stream)\n",
      "-stag fourcc/tag    force subtitle tag/fourcc\n",
      "-fix_sub_duration   fix subtitles duration\n",
      "-canvas_size size   set canvas size (WxH or abbreviation)\n",
      "-spre preset        set the subtitle options to the indicated preset\n",
      "\n",
      "\n"
     ]
    }
   ],
   "source": [
    "r('ffmpeg -h')"
   ]
  },
  {
   "cell_type": "code",
   "execution_count": null,
   "id": "8b1ab851-756d-46b6-a84c-c78e39669e21",
   "metadata": {
    "execution": {
     "iopub.execute_input": "2023-09-25T06:23:48.917181Z",
     "iopub.status.busy": "2023-09-25T06:23:48.916085Z",
     "iopub.status.idle": "2023-09-25T06:23:49.181702Z",
     "shell.execute_reply": "2023-09-25T06:23:49.180324Z"
    },
    "tags": []
   },
   "outputs": [],
   "source": [
    "at = '~/desk/asr/666/'\n",
    "fs = dir(at,rec=T,full=T) %>% ss('mp4') %>% sn(srm(., \".*/\"))"
   ]
  },
  {
   "cell_type": "code",
   "execution_count": null,
   "id": "c6aa7a67-52a9-46ce-a228-05f6249812b0",
   "metadata": {
    "scrolled": true,
    "tags": []
   },
   "outputs": [],
   "source": [
    "fs %>% vimap(~r('ffmpeg -i \"{.x}\" -ar 16000 -ac 1 \"{.y}.wav\"' %>% g))"
   ]
  },
  {
   "cell_type": "markdown",
   "id": "d9124b31-172a-4414-ba2f-41f3d465bf91",
   "metadata": {},
   "source": [
    "# wav 2 txt\n",
    "see asr-py.ipynb"
   ]
  },
  {
   "cell_type": "code",
   "execution_count": null,
   "id": "4e822533-7474-4bbd-ba76-473fe47abf61",
   "metadata": {},
   "outputs": [],
   "source": []
  },
  {
   "cell_type": "markdown",
   "id": "846aaaff-4700-4291-97ef-c3fb943143e4",
   "metadata": {},
   "source": [
    "# txt 2 srt"
   ]
  },
  {
   "cell_type": "code",
   "execution_count": 114,
   "id": "0b4a563b-586f-4de3-8d2f-5599fda8454d",
   "metadata": {
    "execution": {
     "iopub.execute_input": "2023-09-25T06:52:06.824470Z",
     "iopub.status.busy": "2023-09-25T06:52:06.823571Z",
     "iopub.status.idle": "2023-09-25T06:52:06.834786Z",
     "shell.execute_reply": "2023-09-25T06:52:06.833559Z"
    },
    "tags": []
   },
   "outputs": [],
   "source": [
    "at = '~/desk/asr/666/'\n",
    "fs = dir(at) %>% .[str_ends(.,'wav')] %>% sn(srm1(., \"\\\\.[^.]*$\"))"
   ]
  },
  {
   "cell_type": "code",
   "execution_count": 115,
   "id": "8f1de830-4aa3-4702-8d41-3f92cd5daa92",
   "metadata": {
    "execution": {
     "iopub.execute_input": "2023-09-25T06:52:07.274743Z",
     "iopub.status.busy": "2023-09-25T06:52:07.273677Z",
     "iopub.status.idle": "2023-09-25T06:52:07.283571Z",
     "shell.execute_reply": "2023-09-25T06:52:07.282206Z"
    },
    "tags": []
   },
   "outputs": [
    {
     "data": {
      "text/html": [
       "<style>\n",
       ".dl-inline {width: auto; margin:0; padding: 0}\n",
       ".dl-inline>dt, .dl-inline>dd {float: none; width: auto; display: inline-block}\n",
       ".dl-inline>dt::after {content: \":\\0020\"; padding-right: .5ex}\n",
       ".dl-inline>dt:not(:first-of-type) {padding-left: .5ex}\n",
       "</style><dl class=dl-inline><dt>Lecture 1-1 Syllabus.Compr.mp4</dt><dd>'Lecture 1-1 Syllabus.Compr.mp4.wav'</dd><dt>Lecture 1-2 Sequence Similarity.Compr.mp4</dt><dd>'Lecture 1-2 Sequence Similarity.Compr.mp4.wav'</dd><dt>Lecture 1-3 Sequence Alignment.Compr.mp4</dt><dd>'Lecture 1-3 Sequence Alignment.Compr.mp4.wav'</dd><dt>Lecture 1-4 Alignment Score.Compr.mp4</dt><dd>'Lecture 1-4 Alignment Score.Compr.mp4.wav'</dd><dt>Lecture 1-5 Optimal Global Alignment.Compr.mp4</dt><dd>'Lecture 1-5 Optimal Global Alignment.Compr.mp4.wav'</dd><dt>Lecture 1-6 Dynamic Programming Algorithm.Compr.mp4</dt><dd>'Lecture 1-6 Dynamic Programming Algorithm.Compr.mp4.wav'</dd><dt>Lecture 1-7 Probabilistic Interpretation.Compr.mp4</dt><dd>'Lecture 1-7 Probabilistic Interpretation.Compr.mp4.wav'</dd><dt>Lecture 1-8 NCBI SARS-CoV-2 Sequences.Compr.mp4</dt><dd>'Lecture 1-8 NCBI SARS-CoV-2 Sequences.Compr.mp4.wav'</dd><dt>Lecture 1-9 GeneBank SARS-CoV-2.Compr.mp4</dt><dd>'Lecture 1-9 GeneBank SARS-CoV-2.Compr.mp4.wav'</dd></dl>\n"
      ],
      "text/plain": [
       "                           Lecture 1-1 Syllabus.Compr.mp4 \n",
       "                     \"Lecture 1-1 Syllabus.Compr.mp4.wav\" \n",
       "                Lecture 1-2 Sequence Similarity.Compr.mp4 \n",
       "          \"Lecture 1-2 Sequence Similarity.Compr.mp4.wav\" \n",
       "                 Lecture 1-3 Sequence Alignment.Compr.mp4 \n",
       "           \"Lecture 1-3 Sequence Alignment.Compr.mp4.wav\" \n",
       "                    Lecture 1-4 Alignment Score.Compr.mp4 \n",
       "              \"Lecture 1-4 Alignment Score.Compr.mp4.wav\" \n",
       "           Lecture 1-5 Optimal Global Alignment.Compr.mp4 \n",
       "     \"Lecture 1-5 Optimal Global Alignment.Compr.mp4.wav\" \n",
       "      Lecture 1-6 Dynamic Programming Algorithm.Compr.mp4 \n",
       "\"Lecture 1-6 Dynamic Programming Algorithm.Compr.mp4.wav\" \n",
       "       Lecture 1-7 Probabilistic Interpretation.Compr.mp4 \n",
       " \"Lecture 1-7 Probabilistic Interpretation.Compr.mp4.wav\" \n",
       "          Lecture 1-8 NCBI SARS-CoV-2 Sequences.Compr.mp4 \n",
       "    \"Lecture 1-8 NCBI SARS-CoV-2 Sequences.Compr.mp4.wav\" \n",
       "                Lecture 1-9 GeneBank SARS-CoV-2.Compr.mp4 \n",
       "          \"Lecture 1-9 GeneBank SARS-CoV-2.Compr.mp4.wav\" "
      ]
     },
     "metadata": {},
     "output_type": "display_data"
    }
   ],
   "source": [
    "fs"
   ]
  },
  {
   "cell_type": "code",
   "execution_count": 116,
   "id": "44865553-b6dc-41a1-9b54-393caf215ceb",
   "metadata": {
    "execution": {
     "iopub.execute_input": "2023-09-25T06:52:07.785787Z",
     "iopub.status.busy": "2023-09-25T06:52:07.784873Z",
     "iopub.status.idle": "2023-09-25T06:52:08.623370Z",
     "shell.execute_reply": "2023-09-25T06:52:08.622278Z"
    },
    "scrolled": true,
    "tags": []
   },
   "outputs": [],
   "source": [
    "aa = fs %>% vmap(~{\n",
    "    f=.x %>% srm('\\\\..*')\n",
    "    a1=read_file('~/desk/asr/666/{.x}/1best_recog//text_with_punc' %>% g) %>% srm1(f%+%' ')\n",
    "    a2=read_file('~/desk/asr/666/{.x}/1best_recog//time_stamp' %>% g) %>% srm1(f%+%' ')%>% \n",
    "        jsonlite::fromJSON()%>% asdf %>% srn(1:nrow(.))\n",
    "    list(a1,a2)\n",
    "})"
   ]
  },
  {
   "cell_type": "code",
   "execution_count": 124,
   "id": "6740e2da-4c2e-40af-b917-291b72916973",
   "metadata": {
    "execution": {
     "iopub.execute_input": "2023-09-25T06:54:42.874107Z",
     "iopub.status.busy": "2023-09-25T06:54:42.873142Z",
     "iopub.status.idle": "2023-09-25T06:54:43.264716Z",
     "shell.execute_reply": "2023-09-25T06:54:43.263655Z"
    },
    "scrolled": true,
    "tags": []
   },
   "outputs": [
    {
     "name": "stdout",
     "output_type": "stream",
     "text": [
      "2839 2839 \n",
      "4606 4606 \n",
      "1263 1263 \n",
      "1631 1631 \n",
      "3698 3698 \n",
      "1603 1603 \n",
      "1351 1363 \n",
      "799 799 \n",
      "789 789 \n"
     ]
    }
   ],
   "source": [
    "bb=aa %>% vimap(~{\n",
    "    b3=.x[[1]] %>% srp('([A-Z]) (?=[A-Z])','\\\\1') %>% str_split(',|\\\\.|，|。|？|、') %>% .[[1]] %>% .[-len(.)]\n",
    "    c2=b3 %>% map_int(~.x  %>% srp('[a-zA-Z]+','大') %>% srm(' ') %>% slen) %>% cumsum\n",
    "    e1=.x[[2]] %>% asdf %>% srn(1:nrow(.))\n",
    "    cat(c2[len(c2)],nr(e1),'\\n')\n",
    "    \n",
    "    df=data.frame(a=c(0,c2 %>% head(-1))+1,b=c2) %>% head(-1) %>% mu(c1=e1[a,1],c2=e1[b,2])\n",
    "    df$d1=df$c1 %>% sb(1,-4) %>% asi %>% as.difftime(units = 'secs') %>% \n",
    "        add('00:00:00' %>%  strptime(\"%H:%M:%OS\")) %>% strftime(\"%H:%M:%OS\") %>% s(',',sb(df$c1,-3,-1))\n",
    "    df$d2=df$c2 %>% sb(1,-4) %>% asi %>% as.difftime(units = 'secs') %>% \n",
    "        add('00:00:00' %>%  strptime(\"%H:%M:%OS\")) %>% strftime(\"%H:%M:%OS\") %>% s(',',sb(df$c2,-3,-1))\n",
    "    \n",
    "    while (any(b3 %>% sde('(这个){2,}')))\n",
    "        b3 %<>% map_chr(~.x %>% str_replace('(这个){2,}',(.x %>% str_extract('(这个){2,}') %>% slen %>% {./2} %>% s('这个*',.))))\n",
    "    df$wow=b3 %>% head(-1)\n",
    "    df %<>% rowid_to_column('rowid') %>% mu(\n",
    "        keyi=s(rowid,'\\n',d1,' --> ',d2,'\\n',wow,'\\n\\n')\n",
    "    )\n",
    "    df$keyi %>% na.omit %>% s2('') %>% write_file('~/desk/asr/666/{.y}.srt' %>% g)\n",
    "})"
   ]
  },
  {
   "cell_type": "code",
   "execution_count": null,
   "id": "a180b01f-6293-46d6-a661-5232826cfe63",
   "metadata": {},
   "outputs": [],
   "source": []
  },
  {
   "cell_type": "markdown",
   "id": "a742ffc2-43e3-4c07-8379-602b6dc4f104",
   "metadata": {},
   "source": [
    "## "
   ]
  },
  {
   "cell_type": "code",
   "execution_count": 144,
   "id": "ab11204c-21a5-42a3-8bb6-b229bc07fe7c",
   "metadata": {
    "execution": {
     "iopub.execute_input": "2023-02-08T17:12:57.899132Z",
     "iopub.status.busy": "2023-02-08T17:12:57.897235Z",
     "iopub.status.idle": "2023-02-08T17:12:58.042467Z",
     "shell.execute_reply": "2023-02-08T17:12:58.040833Z"
    },
    "scrolled": true,
    "tags": []
   },
   "outputs": [
    {
     "name": "stdout",
     "output_type": "stream",
     "text": [
      "  |======================================================================|   7/7 "
     ]
    }
   ],
   "source": [
    "bb=aa %>% vimap(~{\n",
    "    b3=.x[[1]] %>% srp('([A-Z]) (?=[A-Z])','\\\\1') %>% str_extract_all('(这个){2,}') %>% .[[1]]\n",
    "})"
   ]
  },
  {
   "cell_type": "code",
   "execution_count": 145,
   "id": "079fd057-17b5-48e2-bfc2-9e7f742752b5",
   "metadata": {
    "execution": {
     "iopub.execute_input": "2023-02-08T17:12:58.664237Z",
     "iopub.status.busy": "2023-02-08T17:12:58.662597Z",
     "iopub.status.idle": "2023-02-08T17:12:58.680453Z",
     "shell.execute_reply": "2023-02-08T17:12:58.678338Z"
    },
    "scrolled": true,
    "tags": []
   },
   "outputs": [
    {
     "data": {
      "text/plain": [
       "$`Lecture 01 Overview of Computer Graphics`\n",
       "x\n",
       " 4  6  8 10 \n",
       "94 29 12  1 \n",
       "\n",
       "$`Lecture 02 Review of Linear Algebra`\n",
       "x\n",
       " 4  6  8 10 \n",
       "69 20  4  1 \n",
       "\n",
       "$`Lecture 03 Transformation`\n",
       "x\n",
       " 4  6  8 10 \n",
       "68 16  3  1 \n",
       "\n",
       "$`Lecture 12 Geometry 3`\n",
       "x\n",
       " 4  6 \n",
       "45  3 \n",
       "\n",
       "$`Lecture 13 Ray Tracing 1`\n",
       "x\n",
       " 4  6 \n",
       "97 10 \n",
       "\n",
       "$`Lecture 14 Ray Tracing 2`\n",
       "x\n",
       "  4   6 \n",
       "119   7 \n",
       "\n",
       "$`Lecture 15 Ray Tracing 3`\n",
       "x\n",
       " 4  6  8 \n",
       "70  7  1 \n"
      ]
     },
     "metadata": {},
     "output_type": "display_data"
    }
   ],
   "source": [
    "bb %>% map(~.x %>% slen %>% tb)"
   ]
  },
  {
   "cell_type": "code",
   "execution_count": null,
   "id": "aee1cecf-2548-42d8-ac57-3b0b3b5a9b1c",
   "metadata": {},
   "outputs": [],
   "source": []
  },
  {
   "cell_type": "code",
   "execution_count": null,
   "id": "44299209-f3a4-4152-94c9-5d308c06b8a8",
   "metadata": {},
   "outputs": [],
   "source": []
  },
  {
   "cell_type": "markdown",
   "id": "0cba5272-66a5-428d-8a85-ab0952b7588b",
   "metadata": {},
   "source": [
    "## "
   ]
  },
  {
   "cell_type": "code",
   "execution_count": 155,
   "id": "fad0530e-dc52-41a5-8217-4a979108785c",
   "metadata": {
    "execution": {
     "iopub.execute_input": "2023-02-08T17:17:15.505170Z",
     "iopub.status.busy": "2023-02-08T17:17:15.504261Z",
     "iopub.status.idle": "2023-02-08T17:17:15.511239Z",
     "shell.execute_reply": "2023-02-08T17:17:15.510213Z"
    },
    "tags": []
   },
   "outputs": [],
   "source": [
    "b=aa[[1]]"
   ]
  },
  {
   "cell_type": "code",
   "execution_count": 186,
   "id": "767ad254-6618-4aea-b9cc-0ac9986a14aa",
   "metadata": {
    "execution": {
     "iopub.execute_input": "2023-02-08T17:23:21.490642Z",
     "iopub.status.busy": "2023-02-08T17:23:21.489732Z",
     "iopub.status.idle": "2023-02-08T17:23:21.498014Z",
     "shell.execute_reply": "2023-02-08T17:23:21.497030Z"
    },
    "tags": []
   },
   "outputs": [],
   "source": [
    "b3=b[[1]] %>% srp('([A-Z]) (?=[A-Z])','\\\\1')  %>% str_split('，|。|？|、') %>% .[[1]]"
   ]
  },
  {
   "cell_type": "code",
   "execution_count": 187,
   "id": "836f0a00-8072-4236-bc2b-1e1ebb20d262",
   "metadata": {
    "execution": {
     "iopub.execute_input": "2023-02-08T17:23:21.949918Z",
     "iopub.status.busy": "2023-02-08T17:23:21.948992Z",
     "iopub.status.idle": "2023-02-08T17:23:22.073213Z",
     "shell.execute_reply": "2023-02-08T17:23:22.072135Z"
    },
    "scrolled": true,
    "tags": []
   },
   "outputs": [
    {
     "name": "stdout",
     "output_type": "stream",
     "text": [
      "[1] \"wtf\"\n",
      "[1] \"wtf\"\n"
     ]
    }
   ],
   "source": [
    "while (any(b3 %>% sde('(这个){2,}'))) {\n",
    "    print('wtf')\n",
    "    b3 %<>% map_chr(~.x %>% str_replace('(这个){2,}',(.x %>% str_extract('(这个){2,}') %>% slen %>% {./2} %>% s('这个*',.))))\n",
    "}"
   ]
  },
  {
   "cell_type": "code",
   "execution_count": null,
   "id": "92488156-4b65-45c6-9921-6a8ae38b8c45",
   "metadata": {},
   "outputs": [],
   "source": []
  },
  {
   "cell_type": "markdown",
   "id": "364159dd-4d3b-427c-acb1-11129c377bd1",
   "metadata": {},
   "source": [
    "# "
   ]
  },
  {
   "cell_type": "code",
   "execution_count": 112,
   "id": "8101257e-0139-4490-a7ea-26177780bdd5",
   "metadata": {
    "execution": {
     "iopub.execute_input": "2023-02-08T16:41:43.913171Z",
     "iopub.status.busy": "2023-02-08T16:41:43.912209Z",
     "iopub.status.idle": "2023-02-08T16:41:43.985892Z",
     "shell.execute_reply": "2023-02-08T16:41:43.984724Z"
    },
    "tags": []
   },
   "outputs": [],
   "source": [
    "a=read_file('~/desk/asr/1best_recog/text_with_punc')"
   ]
  },
  {
   "cell_type": "code",
   "execution_count": 113,
   "id": "24f2b79d-e976-4fb8-8252-8509291fe7dc",
   "metadata": {
    "execution": {
     "iopub.execute_input": "2023-02-08T16:41:44.541799Z",
     "iopub.status.busy": "2023-02-08T16:41:44.541038Z",
     "iopub.status.idle": "2023-02-08T16:41:44.708379Z",
     "shell.execute_reply": "2023-02-08T16:41:44.707269Z"
    },
    "scrolled": true,
    "tags": []
   },
   "outputs": [],
   "source": [
    "b=a %>% sb(3,-1) %>% jsonlite::fromJSON()"
   ]
  },
  {
   "cell_type": "code",
   "execution_count": 114,
   "id": "5bb98914-dd63-41f9-ac31-1317cb379b58",
   "metadata": {
    "execution": {
     "iopub.execute_input": "2023-02-08T16:41:44.710518Z",
     "iopub.status.busy": "2023-02-08T16:41:44.709708Z",
     "iopub.status.idle": "2023-02-08T16:41:44.725058Z",
     "shell.execute_reply": "2023-02-08T16:41:44.723890Z"
    },
    "tags": []
   },
   "outputs": [],
   "source": [
    "b2=b[[1]] %>% srp('([A-Z]) (?=[A-Z])','\\\\1') "
   ]
  },
  {
   "cell_type": "code",
   "execution_count": 115,
   "id": "4d39982d-85cd-4252-a4c8-22026a793ccc",
   "metadata": {
    "execution": {
     "iopub.execute_input": "2023-02-08T16:41:44.727240Z",
     "iopub.status.busy": "2023-02-08T16:41:44.726441Z",
     "iopub.status.idle": "2023-02-08T16:41:44.734994Z",
     "shell.execute_reply": "2023-02-08T16:41:44.733824Z"
    },
    "scrolled": true,
    "tags": []
   },
   "outputs": [],
   "source": [
    "b3=b2 %>% str_split('，|。|？|、') %>% .[[1]]"
   ]
  },
  {
   "cell_type": "code",
   "execution_count": null,
   "id": "f7b602a1-d2f7-4fb7-893e-ba7d7f802d9f",
   "metadata": {},
   "outputs": [],
   "source": []
  },
  {
   "cell_type": "code",
   "execution_count": 117,
   "id": "9ca78fff-72d4-4949-aec4-08410b6cd9eb",
   "metadata": {
    "execution": {
     "iopub.execute_input": "2023-02-08T16:41:45.491914Z",
     "iopub.status.busy": "2023-02-08T16:41:45.491043Z",
     "iopub.status.idle": "2023-02-08T16:41:45.618564Z",
     "shell.execute_reply": "2023-02-08T16:41:45.617427Z"
    },
    "scrolled": true,
    "tags": []
   },
   "outputs": [],
   "source": [
    "c1=b3 %>% map_int(~.x  %>% srp('[a-zA-Z]+','大') %>% srm(' ') %>% slen)"
   ]
  },
  {
   "cell_type": "code",
   "execution_count": 118,
   "id": "87c0e021-52f2-4f53-abb3-f4bd6bbdaa0e",
   "metadata": {
    "execution": {
     "iopub.execute_input": "2023-02-08T16:41:46.508303Z",
     "iopub.status.busy": "2023-02-08T16:41:46.507395Z",
     "iopub.status.idle": "2023-02-08T16:41:46.514296Z",
     "shell.execute_reply": "2023-02-08T16:41:46.513325Z"
    },
    "tags": []
   },
   "outputs": [],
   "source": [
    "c2=c1 %>% cumsum"
   ]
  },
  {
   "cell_type": "code",
   "execution_count": 13,
   "id": "fdfa0543-3be0-48aa-98b8-140a387cb638",
   "metadata": {
    "execution": {
     "iopub.execute_input": "2023-02-07T15:34:42.753526Z",
     "iopub.status.busy": "2023-02-07T15:34:42.752363Z",
     "iopub.status.idle": "2023-02-07T15:34:42.762435Z",
     "shell.execute_reply": "2023-02-07T15:34:42.761128Z"
    },
    "tags": []
   },
   "outputs": [],
   "source": [
    "c3=data.frame(a=c(0,c2 %>% head(-1))+1,b=c2) %>% head(-1)"
   ]
  },
  {
   "cell_type": "code",
   "execution_count": null,
   "id": "a4e9ff2d-6392-4bd5-aa1e-de1fccf2042a",
   "metadata": {
    "scrolled": true,
    "tags": []
   },
   "outputs": [],
   "source": [
    "e1=b[[2]] %>% asdf %>% srn(1:nrow(.))\n",
    "e1"
   ]
  },
  {
   "cell_type": "code",
   "execution_count": null,
   "id": "4eb557ec-9cb7-44c4-a16e-50128a063db7",
   "metadata": {
    "scrolled": true,
    "tags": []
   },
   "outputs": [],
   "source": [
    "c4=c3 %>% mu(c1=e1[a,1],c2=e1[b,2])\n",
    "c4"
   ]
  },
  {
   "cell_type": "code",
   "execution_count": 38,
   "id": "03680fbb-ee01-403b-a55d-c9d31d296af8",
   "metadata": {
    "execution": {
     "iopub.execute_input": "2023-02-07T15:40:34.841276Z",
     "iopub.status.busy": "2023-02-07T15:40:34.840108Z",
     "iopub.status.idle": "2023-02-07T15:40:34.855123Z",
     "shell.execute_reply": "2023-02-07T15:40:34.853720Z"
    },
    "tags": []
   },
   "outputs": [],
   "source": [
    "c4$d1=c4$c1 %>% sb(1,-4) %>% asi %>% as.difftime(units = 'secs') %>% \n",
    "    add('00:00:00' %>%  strptime(\"%H:%M:%OS\")) %>% strftime(\"%H:%M:%OS\") %>% s(',',sb(c4$c1,-3,-1))"
   ]
  },
  {
   "cell_type": "code",
   "execution_count": 39,
   "id": "e4a3bbc7-029c-4433-a5bb-8746c16b92a8",
   "metadata": {
    "execution": {
     "iopub.execute_input": "2023-02-07T15:40:35.134472Z",
     "iopub.status.busy": "2023-02-07T15:40:35.133448Z",
     "iopub.status.idle": "2023-02-07T15:40:35.147276Z",
     "shell.execute_reply": "2023-02-07T15:40:35.145997Z"
    },
    "tags": []
   },
   "outputs": [],
   "source": [
    "c4$d2=c4$c2 %>% sb(1,-4) %>% asi %>% as.difftime(units = 'secs') %>% \n",
    "    add('00:00:00' %>%  strptime(\"%H:%M:%OS\")) %>% strftime(\"%H:%M:%OS\") %>% s(',',sb(c4$c2,-3,-1))"
   ]
  },
  {
   "cell_type": "code",
   "execution_count": 40,
   "id": "0714b99e-64cf-4421-bb91-692ee34793ef",
   "metadata": {
    "execution": {
     "iopub.execute_input": "2023-02-07T15:40:35.822532Z",
     "iopub.status.busy": "2023-02-07T15:40:35.821459Z",
     "iopub.status.idle": "2023-02-07T15:40:35.830511Z",
     "shell.execute_reply": "2023-02-07T15:40:35.829220Z"
    },
    "scrolled": true,
    "tags": []
   },
   "outputs": [],
   "source": [
    "c4$wow=b3 %>% head(-1)"
   ]
  },
  {
   "cell_type": "code",
   "execution_count": null,
   "id": "f9138e00-e7df-4186-9e10-a054b0cd5ca2",
   "metadata": {
    "scrolled": true,
    "tags": []
   },
   "outputs": [],
   "source": [
    "c4"
   ]
  },
  {
   "cell_type": "code",
   "execution_count": 42,
   "id": "4955421b-eb73-407c-9c4b-933540b43e8a",
   "metadata": {
    "execution": {
     "iopub.execute_input": "2023-02-07T15:40:47.127782Z",
     "iopub.status.busy": "2023-02-07T15:40:47.126705Z",
     "iopub.status.idle": "2023-02-07T15:40:47.139420Z",
     "shell.execute_reply": "2023-02-07T15:40:47.137773Z"
    },
    "scrolled": true,
    "tags": []
   },
   "outputs": [],
   "source": [
    "c5=c4 %>% rowid_to_column('rowid') %>% mu(\n",
    "    keyi=s(rowid,'\\n',d1,' --> ',d2,'\\n',wow,'\\n\\n')\n",
    ")"
   ]
  },
  {
   "cell_type": "code",
   "execution_count": null,
   "id": "c74187f2-6c59-4096-9279-969f43401da8",
   "metadata": {
    "scrolled": true,
    "tags": []
   },
   "outputs": [],
   "source": [
    "c5"
   ]
  },
  {
   "cell_type": "code",
   "execution_count": 46,
   "id": "f6bf0324-02d5-4c49-901d-b85c8b904fd1",
   "metadata": {
    "execution": {
     "iopub.execute_input": "2023-02-07T15:41:21.909271Z",
     "iopub.status.busy": "2023-02-07T15:41:21.908279Z",
     "iopub.status.idle": "2023-02-07T15:41:21.930099Z",
     "shell.execute_reply": "2023-02-07T15:41:21.928606Z"
    },
    "tags": []
   },
   "outputs": [],
   "source": [
    "c5$keyi %>% s2('') %>% write_file('~/desk/666.srt')"
   ]
  },
  {
   "cell_type": "code",
   "execution_count": null,
   "id": "e3b53412-d7bf-446a-9bdd-70ee5ec2d200",
   "metadata": {},
   "outputs": [],
   "source": []
  },
  {
   "cell_type": "code",
   "execution_count": null,
   "id": "3b892566-d57f-4713-b302-8f1907c79046",
   "metadata": {},
   "outputs": [],
   "source": []
  },
  {
   "cell_type": "code",
   "execution_count": null,
   "id": "24082a71-afea-474b-8bc9-60102ec51787",
   "metadata": {},
   "outputs": [],
   "source": []
  },
  {
   "cell_type": "code",
   "execution_count": 15,
   "id": "3ee5afda-8d96-4071-b76b-a3344a84e3ce",
   "metadata": {
    "execution": {
     "iopub.execute_input": "2023-02-07T15:34:56.767346Z",
     "iopub.status.busy": "2023-02-07T15:34:56.765838Z",
     "iopub.status.idle": "2023-02-07T15:34:56.775859Z",
     "shell.execute_reply": "2023-02-07T15:34:56.774517Z"
    },
    "scrolled": true,
    "tags": []
   },
   "outputs": [],
   "source": [
    "# c4$c1 %>% {./1000} %>% as.difftime(units='secs') %>% add('00:00:00' %>%  strptime(\"%H:%M:%OS\")) %>% strftime(\"%H:%M:%OS\")"
   ]
  },
  {
   "cell_type": "code",
   "execution_count": null,
   "id": "0ebe6a03-f2ee-4a96-9077-29e3f9abcf90",
   "metadata": {
    "tags": []
   },
   "outputs": [],
   "source": []
  },
  {
   "cell_type": "code",
   "execution_count": null,
   "id": "967ed8d8-f182-41d8-b904-4a061ce4222e",
   "metadata": {},
   "outputs": [],
   "source": []
  },
  {
   "cell_type": "code",
   "execution_count": null,
   "id": "076653bc-2d62-4545-a4ed-9724b3d1c526",
   "metadata": {},
   "outputs": [],
   "source": []
  },
  {
   "cell_type": "code",
   "execution_count": null,
   "id": "6a5ed9d9-69c0-4707-83b2-5d07197bf6c3",
   "metadata": {},
   "outputs": [],
   "source": []
  },
  {
   "cell_type": "code",
   "execution_count": null,
   "id": "2f5fc9d2-6231-4ea7-b0db-608c055bf499",
   "metadata": {},
   "outputs": [],
   "source": []
  }
 ],
 "metadata": {
  "kernelspec": {
   "display_name": "R 4.3",
   "language": "R",
   "name": "ir43"
  },
  "language_info": {
   "codemirror_mode": "r",
   "file_extension": ".r",
   "mimetype": "text/x-r-source",
   "name": "R",
   "pygments_lexer": "r",
   "version": "4.2.3"
  },
  "toc-autonumbering": true,
  "widgets": {
   "application/vnd.jupyter.widget-state+json": {
    "state": {},
    "version_major": 2,
    "version_minor": 0
   }
  }
 },
 "nbformat": 4,
 "nbformat_minor": 5
}

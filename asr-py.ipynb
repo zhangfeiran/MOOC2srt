{
 "cells": [
  {
   "cell_type": "code",
   "execution_count": 16,
   "id": "9b1b1c94-141f-4621-952b-79e050026fd1",
   "metadata": {
    "execution": {
     "iopub.execute_input": "2023-09-25T06:25:49.742530Z",
     "iopub.status.busy": "2023-09-25T06:25:49.742245Z",
     "iopub.status.idle": "2023-09-25T06:25:49.746418Z",
     "shell.execute_reply": "2023-09-25T06:25:49.745628Z",
     "shell.execute_reply.started": "2023-09-25T06:25:49.742514Z"
    },
    "tags": []
   },
   "outputs": [],
   "source": [
    "import sys, os, time, math, random, re, datetime"
   ]
  },
  {
   "cell_type": "code",
   "execution_count": 1,
   "id": "891c3ee2-3fa9-44c7-a66c-f8916590b27c",
   "metadata": {
    "execution": {
     "iopub.execute_input": "2023-09-25T05:56:44.566480Z",
     "iopub.status.busy": "2023-09-25T05:56:44.566098Z",
     "iopub.status.idle": "2023-09-25T05:56:46.276981Z",
     "shell.execute_reply": "2023-09-25T05:56:46.276096Z",
     "shell.execute_reply.started": "2023-09-25T05:56:44.566464Z"
    },
    "tags": []
   },
   "outputs": [
    {
     "name": "stderr",
     "output_type": "stream",
     "text": [
      "2023-09-25 13:56:45,761 - modelscope - INFO - PyTorch version 2.0.1+cpu Found.\n",
      "2023-09-25 13:56:45,765 - modelscope - INFO - Loading ast index from /home/frz/.cache/modelscope/ast_indexer\n",
      "2023-09-25 13:56:45,845 - modelscope - INFO - No valid ast index found from /home/frz/.cache/modelscope/ast_indexer, generating ast index from prebuilt!\n",
      "2023-09-25 13:56:45,878 - modelscope - INFO - Loading done! Current index file version is 1.9.1, with md5 ad5305f9d23c10e7875b68fe27e10668 and a total number of 924 components indexed\n",
      "/home/frz/miniconda3/envs/modelscope/lib/python3.8/site-packages/tqdm/auto.py:21: TqdmWarning: IProgress not found. Please update jupyter and ipywidgets. See https://ipywidgets.readthedocs.io/en/stable/user_install.html\n",
      "  from .autonotebook import tqdm as notebook_tqdm\n"
     ]
    }
   ],
   "source": [
    "from modelscope.pipelines import pipeline"
   ]
  },
  {
   "cell_type": "code",
   "execution_count": 2,
   "id": "627575ba-649d-4cc4-b35e-2aec3f7ddb28",
   "metadata": {
    "execution": {
     "iopub.execute_input": "2023-09-25T05:56:46.278588Z",
     "iopub.status.busy": "2023-09-25T05:56:46.278101Z",
     "iopub.status.idle": "2023-09-25T05:56:46.282217Z",
     "shell.execute_reply": "2023-09-25T05:56:46.281277Z",
     "shell.execute_reply.started": "2023-09-25T05:56:46.278570Z"
    },
    "tags": []
   },
   "outputs": [],
   "source": [
    "from modelscope.utils.constant import Tasks"
   ]
  },
  {
   "cell_type": "code",
   "execution_count": 3,
   "id": "637418aa-4ac9-4bdf-8d03-4c3d2910f36b",
   "metadata": {
    "execution": {
     "iopub.execute_input": "2023-09-25T05:56:46.283307Z",
     "iopub.status.busy": "2023-09-25T05:56:46.283081Z",
     "iopub.status.idle": "2023-09-25T05:56:46.294184Z",
     "shell.execute_reply": "2023-09-25T05:56:46.293290Z",
     "shell.execute_reply.started": "2023-09-25T05:56:46.283291Z"
    },
    "tags": []
   },
   "outputs": [
    {
     "data": {
      "text/plain": [
       "'auto-speech-recognition'"
      ]
     },
     "execution_count": 3,
     "metadata": {},
     "output_type": "execute_result"
    }
   ],
   "source": [
    "Tasks.auto_speech_recognition"
   ]
  },
  {
   "cell_type": "code",
   "execution_count": 4,
   "id": "aa996713-bc34-43ae-b947-869d1387b68c",
   "metadata": {
    "execution": {
     "iopub.execute_input": "2023-09-25T05:56:46.296301Z",
     "iopub.status.busy": "2023-09-25T05:56:46.295898Z",
     "iopub.status.idle": "2023-09-25T05:56:46.299588Z",
     "shell.execute_reply": "2023-09-25T05:56:46.298649Z",
     "shell.execute_reply.started": "2023-09-25T05:56:46.296285Z"
    },
    "scrolled": true,
    "tags": []
   },
   "outputs": [],
   "source": [
    "# from modelscope.hub.snapshot_download import snapshot_download \n",
    "# path = snapshot_download('damo/speech_paraformer-large-vad-punc_asr_nat-zh-cn-16k-common-vocab8404-pytorch')\n",
    "# print(path)"
   ]
  },
  {
   "cell_type": "code",
   "execution_count": 9,
   "id": "86c975d1-b27d-426a-8f73-093db067c179",
   "metadata": {
    "execution": {
     "iopub.execute_input": "2023-09-25T06:10:23.419588Z",
     "iopub.status.busy": "2023-09-25T06:10:23.419192Z",
     "iopub.status.idle": "2023-09-25T06:10:38.819049Z",
     "shell.execute_reply": "2023-09-25T06:10:38.818387Z",
     "shell.execute_reply.started": "2023-09-25T06:10:23.419571Z"
    },
    "scrolled": true,
    "tags": []
   },
   "outputs": [
    {
     "name": "stderr",
     "output_type": "stream",
     "text": [
      "2023-09-25 14:10:23,795 - modelscope - INFO - Model revision not specified, use the latest revision: v1.2.4\n",
      "2023-09-25 14:10:24,159 - modelscope - INFO - initiate model from /home/frz/.cache/modelscope/hub/damo/speech_paraformer-large-vad-punc_asr_nat-zh-cn-16k-common-vocab8404-pytorch\n",
      "2023-09-25 14:10:24,160 - modelscope - INFO - initiate model from location /home/frz/.cache/modelscope/hub/damo/speech_paraformer-large-vad-punc_asr_nat-zh-cn-16k-common-vocab8404-pytorch.\n",
      "2023-09-25 14:10:24,162 - modelscope - INFO - initialize model from /home/frz/.cache/modelscope/hub/damo/speech_paraformer-large-vad-punc_asr_nat-zh-cn-16k-common-vocab8404-pytorch\n",
      "2023-09-25 14:10:24,164 - modelscope - WARNING - No preprocessor field found in cfg.\n",
      "2023-09-25 14:10:24,165 - modelscope - WARNING - No val key and type key found in preprocessor domain of configuration.json file.\n",
      "2023-09-25 14:10:24,165 - modelscope - WARNING - Cannot find available config to build preprocessor at mode inference, current config: {'model_dir': '/home/frz/.cache/modelscope/hub/damo/speech_paraformer-large-vad-punc_asr_nat-zh-cn-16k-common-vocab8404-pytorch'}. trying to build by task and model information.\n",
      "2023-09-25 14:10:24,166 - modelscope - WARNING - No preprocessor key ('generic-asr', 'auto-speech-recognition') found in PREPROCESSOR_MAP, skip building preprocessor.\n",
      "2023-09-25 14:10:24,169 - modelscope - INFO - cuda is not available, using cpu instead.\n",
      "2023-09-25 14:10:24,666 - modelscope - INFO - Model revision not specified, use the latest revision: v1.2.0\n",
      "2023-09-25 14:10:24,850 - modelscope - INFO - loading vad model from /home/frz/.cache/modelscope/hub/damo/speech_fsmn_vad_zh-cn-16k-common-pytorch ...\n",
      "2023-09-25 14:10:25,081 - modelscope - INFO - Model revision not specified, use the latest revision: v1.1.7\n",
      "2023-09-25 14:10:25,296 - modelscope - INFO - loading punctuation model from /home/frz/.cache/modelscope/hub/damo/punc_ct-transformer_zh-cn-common-vocab272727-pytorch ...\n"
     ]
    }
   ],
   "source": [
    "p = pipeline('auto-speech-recognition', 'damo/speech_paraformer-large-vad-punc_asr_nat-zh-cn-16k-common-vocab8404-pytorch')\n",
    "# p = pipeline('auto-speech-recognition', '/home/frz/.cache/modelscope/hub/damo/speech_paraformer-large-vad-punc_asr_nat-zh-cn-16k-common-vocab8404-pytorch')"
   ]
  },
  {
   "cell_type": "code",
   "execution_count": null,
   "id": "abf9b7e2-3c40-4c6c-8571-2976d98f89a2",
   "metadata": {},
   "outputs": [],
   "source": []
  },
  {
   "cell_type": "code",
   "execution_count": null,
   "id": "ebe4bb12-584b-467a-af14-4ac6a6046a9a",
   "metadata": {},
   "outputs": [],
   "source": []
  },
  {
   "cell_type": "markdown",
   "id": "11633384-83e4-46d4-afbb-3b75f91e0ab4",
   "metadata": {},
   "source": [
    "# wav 2 txt"
   ]
  },
  {
   "cell_type": "code",
   "execution_count": 20,
   "id": "9451cc6b-fce8-4928-8f0d-63b8d1f6bd98",
   "metadata": {
    "execution": {
     "iopub.execute_input": "2023-09-25T06:26:31.688902Z",
     "iopub.status.busy": "2023-09-25T06:26:31.688405Z",
     "iopub.status.idle": "2023-09-25T06:26:31.693967Z",
     "shell.execute_reply": "2023-09-25T06:26:31.693178Z",
     "shell.execute_reply.started": "2023-09-25T06:26:31.688882Z"
    },
    "tags": []
   },
   "outputs": [],
   "source": [
    "fs=os.listdir('/home/frz/desk/asr/')\n",
    "fs=[i for i in fs if i.endswith('wav')]"
   ]
  },
  {
   "cell_type": "code",
   "execution_count": 21,
   "id": "9a4e78df-d364-4bea-a752-1116a27b30cb",
   "metadata": {
    "execution": {
     "iopub.execute_input": "2023-09-25T06:26:32.838386Z",
     "iopub.status.busy": "2023-09-25T06:26:32.837999Z",
     "iopub.status.idle": "2023-09-25T06:26:32.843018Z",
     "shell.execute_reply": "2023-09-25T06:26:32.842291Z",
     "shell.execute_reply.started": "2023-09-25T06:26:32.838369Z"
    },
    "scrolled": true,
    "tags": []
   },
   "outputs": [
    {
     "data": {
      "text/plain": [
       "['Lecture 1-1 Syllabus.Compr.mp4.wav',\n",
       " 'Lecture 1-2 Sequence Similarity.Compr.mp4.wav',\n",
       " 'Lecture 1-3 Sequence Alignment.Compr.mp4.wav',\n",
       " 'Lecture 1-4 Alignment Score.Compr.mp4.wav',\n",
       " 'Lecture 1-5 Optimal Global Alignment.Compr.mp4.wav',\n",
       " 'Lecture 1-6 Dynamic Programming Algorithm.Compr.mp4.wav',\n",
       " 'Lecture 1-7 Probabilistic Interpretation.Compr.mp4.wav',\n",
       " 'Lecture 1-8 NCBI SARS-CoV-2 Sequences.Compr.mp4.wav',\n",
       " 'Lecture 1-9 GeneBank SARS-CoV-2.Compr.mp4.wav',\n",
       " 'Lecture 10-1 Approximation Algorithms I.Compr.mp4.wav',\n",
       " 'Lecture 10-2 Approximation Algorithms II.Compr.mp4.wav',\n",
       " 'Lecture 11-1 Data Structure - Suffix Array I.Compr.mp4.wav',\n",
       " 'Lecture 11-2 Data Structure - Suffix Array II.Compr.mp4.wav',\n",
       " 'Lecture 11-3 Data Structure - Suffix Array III.Compr.mp4.wav',\n",
       " 'Lecture 11-4 Data Structure - BWT.Compr.mp4.wav',\n",
       " 'Lecture 12 Multi-threaded Algorithms.Compr.mp4.wav',\n",
       " 'Lecture 2-1 Optimal Local Alignment.Compr.mp4.wav',\n",
       " 'Lecture 2-2 Affine Gap Global Alignment.Compr.mp4.wav',\n",
       " 'Lecture 2-3 Banded Dynamic Programming.Compr.mp4.wav',\n",
       " 'Lecture 3-1 Sequence Alignment III.Compr.mp4.wav',\n",
       " 'Lecture 3-2 Linear Space Algorithm.Compr.mp4.wav',\n",
       " 'Lecture 3-3 Fast Database Search Algorithms.Compr.mp4.wav',\n",
       " 'Lecture 3-4 BALST Scores.Compr.mp4.wav',\n",
       " 'Lecture 4-1 Hash Functions.Compr.mp4.wav',\n",
       " 'Lecture 4-2 Choosing good hash functions.Compr.mp4.wav',\n",
       " 'Lecture 4-3 Universal Hash Functions.Compr.mp4.wav',\n",
       " 'Lecture 4-4 Constructing 2-Universal Hash Family.Compr.mp4.wav',\n",
       " 'Lecture 5-1 Open Addressing.Compr.mp4.wav',\n",
       " 'Lecture 5-2 Perfect Hashing.Compr.mp4.wav',\n",
       " 'Lecture 5-3 Bloom Filter.Compr.mp4.wav',\n",
       " 'Lecture 6-1 MinHash I.Compr.mp4.wav',\n",
       " 'Lecture 6-2 MinHash II.Compr.mp4.wav',\n",
       " 'Lecture 7-1 LSH 1.Compr.mp4.wav',\n",
       " 'Lecture 7-2 LSH 2.Compr.mp4.wav',\n",
       " 'Lecture 7-3 LSH 3.Compr.mp4.wav',\n",
       " 'Lecture 8-1 LSH for Real Data Type 1.Compr.mp4.wav',\n",
       " 'Lecture 8-2 LSH for Real Data Type 2.Compr.mp4.wav',\n",
       " 'Lecture 9-1 Multi-Probe LSH.Compr.mp4.wav',\n",
       " 'Lecture 9-2 LSH for Clustering.Compr.mp4.wav']"
      ]
     },
     "execution_count": 21,
     "metadata": {},
     "output_type": "execute_result"
    }
   ],
   "source": [
    "fs"
   ]
  },
  {
   "cell_type": "code",
   "execution_count": 25,
   "id": "6bc7c539-ad0f-42a3-8dc6-a1cbc16c25eb",
   "metadata": {
    "execution": {
     "iopub.execute_input": "2023-09-25T06:38:08.125972Z",
     "iopub.status.busy": "2023-09-25T06:38:08.125688Z",
     "iopub.status.idle": "2023-09-25T09:12:35.419161Z",
     "shell.execute_reply": "2023-09-25T09:12:35.418233Z",
     "shell.execute_reply.started": "2023-09-25T06:38:08.125955Z"
    },
    "scrolled": true,
    "tags": []
   },
   "outputs": [
    {
     "name": "stdout",
     "output_type": "stream",
     "text": [
      "Lecture 1-1 Syllabus.Compr.mp4.wav\n"
     ]
    },
    {
     "name": "stderr",
     "output_type": "stream",
     "text": [
      "2023-09-25 14:38:08,398 - modelscope - INFO - Decoding with wav files ...\n"
     ]
    },
    {
     "name": "stdout",
     "output_type": "stream",
     "text": [
      "batch_size_token:  6000\n",
      "time cost vad:  7.481071472167969\n"
     ]
    },
    {
     "name": "stderr",
     "output_type": "stream",
     "text": [
      "100%|████████████████████████████████████████████████████████████████| 144/144 [01:42<00:00,  1.41it/s]\n"
     ]
    },
    {
     "name": "stdout",
     "output_type": "stream",
     "text": [
      "total time cost asr:  102.36816954612732\n"
     ]
    },
    {
     "name": "stderr",
     "output_type": "stream",
     "text": [
      "2023-09-25 14:39:59,947 - modelscope - INFO - Computing the result of ASR ...\n"
     ]
    },
    {
     "name": "stdout",
     "output_type": "stream",
     "text": [
      "time cost punc:  1.2088842391967773\n",
      "Lecture 1-2 Sequence Similarity.Compr.mp4.wav\n"
     ]
    },
    {
     "name": "stderr",
     "output_type": "stream",
     "text": [
      "2023-09-25 14:40:00,429 - modelscope - INFO - Decoding with wav files ...\n"
     ]
    },
    {
     "name": "stdout",
     "output_type": "stream",
     "text": [
      "batch_size_token:  6000\n",
      "time cost vad:  12.567552089691162\n"
     ]
    },
    {
     "name": "stderr",
     "output_type": "stream",
     "text": [
      "100%|████████████████████████████████████████████████████████████████| 161/161 [02:38<00:00,  1.02it/s]\n"
     ]
    },
    {
     "name": "stdout",
     "output_type": "stream",
     "text": [
      "total time cost asr:  158.32483863830566\n"
     ]
    },
    {
     "name": "stderr",
     "output_type": "stream",
     "text": [
      "2023-09-25 14:42:54,286 - modelscope - INFO - Computing the result of ASR ...\n",
      "2023-09-25 14:42:54,421 - modelscope - INFO - Decoding with wav files ...\n"
     ]
    },
    {
     "name": "stdout",
     "output_type": "stream",
     "text": [
      "time cost punc:  2.07961106300354\n",
      "Lecture 1-3 Sequence Alignment.Compr.mp4.wav\n",
      "batch_size_token:  6000\n",
      "time cost vad:  3.288490056991577\n"
     ]
    },
    {
     "name": "stderr",
     "output_type": "stream",
     "text": [
      "100%|██████████████████████████████████████████████████████████████████| 54/54 [00:46<00:00,  1.16it/s]\n"
     ]
    },
    {
     "name": "stdout",
     "output_type": "stream",
     "text": [
      "total time cost asr:  46.75143098831177\n"
     ]
    },
    {
     "name": "stderr",
     "output_type": "stream",
     "text": [
      "2023-09-25 14:43:45,353 - modelscope - INFO - Computing the result of ASR ...\n",
      "2023-09-25 14:43:45,513 - modelscope - INFO - Decoding with wav files ...\n"
     ]
    },
    {
     "name": "stdout",
     "output_type": "stream",
     "text": [
      "time cost punc:  0.5441000461578369\n",
      "Lecture 1-4 Alignment Score.Compr.mp4.wav\n",
      "batch_size_token:  6000\n",
      "time cost vad:  3.9913060665130615\n"
     ]
    },
    {
     "name": "stderr",
     "output_type": "stream",
     "text": [
      "100%|██████████████████████████████████████████████████████████████████| 64/64 [00:57<00:00,  1.11it/s]\n"
     ]
    },
    {
     "name": "stdout",
     "output_type": "stream",
     "text": [
      "total time cost asr:  57.72290873527527\n"
     ]
    },
    {
     "name": "stderr",
     "output_type": "stream",
     "text": [
      "2023-09-25 14:44:48,283 - modelscope - INFO - Computing the result of ASR ...\n"
     ]
    },
    {
     "name": "stdout",
     "output_type": "stream",
     "text": [
      "time cost punc:  0.6753456592559814\n",
      "Lecture 1-5 Optimal Global Alignment.Compr.mp4.wav\n"
     ]
    },
    {
     "name": "stderr",
     "output_type": "stream",
     "text": [
      "2023-09-25 14:44:48,646 - modelscope - INFO - Decoding with wav files ...\n"
     ]
    },
    {
     "name": "stdout",
     "output_type": "stream",
     "text": [
      "batch_size_token:  6000\n",
      "time cost vad:  9.488810777664185\n"
     ]
    },
    {
     "name": "stderr",
     "output_type": "stream",
     "text": [
      "100%|████████████████████████████████████████████████████████████████| 129/129 [02:11<00:00,  1.02s/it]\n"
     ]
    },
    {
     "name": "stdout",
     "output_type": "stream",
     "text": [
      "total time cost asr:  131.5991268157959\n"
     ]
    },
    {
     "name": "stderr",
     "output_type": "stream",
     "text": [
      "2023-09-25 14:47:11,901 - modelscope - INFO - Computing the result of ASR ...\n",
      "2023-09-25 14:47:12,070 - modelscope - INFO - Decoding with wav files ...\n"
     ]
    },
    {
     "name": "stdout",
     "output_type": "stream",
     "text": [
      "time cost punc:  1.5503044128417969\n",
      "Lecture 1-6 Dynamic Programming Algorithm.Compr.mp4.wav\n",
      "batch_size_token:  6000\n",
      "time cost vad:  4.516615152359009\n"
     ]
    },
    {
     "name": "stderr",
     "output_type": "stream",
     "text": [
      "100%|██████████████████████████████████████████████████████████████████| 64/64 [01:01<00:00,  1.04it/s]\n"
     ]
    },
    {
     "name": "stdout",
     "output_type": "stream",
     "text": [
      "total time cost asr:  61.55063438415527\n"
     ]
    },
    {
     "name": "stderr",
     "output_type": "stream",
     "text": [
      "2023-09-25 14:48:19,204 - modelscope - INFO - Computing the result of ASR ...\n",
      "2023-09-25 14:48:19,353 - modelscope - INFO - Decoding with wav files ...\n"
     ]
    },
    {
     "name": "stdout",
     "output_type": "stream",
     "text": [
      "time cost punc:  0.659412145614624\n",
      "Lecture 1-7 Probabilistic Interpretation.Compr.mp4.wav\n",
      "batch_size_token:  6000\n",
      "time cost vad:  3.8644371032714844\n"
     ]
    },
    {
     "name": "stderr",
     "output_type": "stream",
     "text": [
      "100%|██████████████████████████████████████████████████████████████████| 47/47 [00:51<00:00,  1.09s/it]\n"
     ]
    },
    {
     "name": "stdout",
     "output_type": "stream",
     "text": [
      "total time cost asr:  51.3695912361145\n"
     ]
    },
    {
     "name": "stderr",
     "output_type": "stream",
     "text": [
      "2023-09-25 14:49:15,527 - modelscope - INFO - Computing the result of ASR ...\n",
      "2023-09-25 14:49:15,606 - modelscope - INFO - Decoding with wav files ...\n"
     ]
    },
    {
     "name": "stdout",
     "output_type": "stream",
     "text": [
      "time cost punc:  0.5830504894256592\n",
      "Lecture 1-8 NCBI SARS-CoV-2 Sequences.Compr.mp4.wav\n",
      "batch_size_token:  6000\n",
      "time cost vad:  1.7212164402008057\n"
     ]
    },
    {
     "name": "stderr",
     "output_type": "stream",
     "text": [
      "100%|██████████████████████████████████████████████████████████████████| 24/24 [00:24<00:00,  1.02s/it]\n"
     ]
    },
    {
     "name": "stdout",
     "output_type": "stream",
     "text": [
      "total time cost asr:  24.427358388900757\n"
     ]
    },
    {
     "name": "stderr",
     "output_type": "stream",
     "text": [
      "2023-09-25 14:49:42,417 - modelscope - INFO - Computing the result of ASR ...\n",
      "2023-09-25 14:49:42,492 - modelscope - INFO - Decoding with wav files ...\n"
     ]
    },
    {
     "name": "stdout",
     "output_type": "stream",
     "text": [
      "time cost punc:  0.33910393714904785\n",
      "Lecture 1-9 GeneBank SARS-CoV-2.Compr.mp4.wav\n",
      "batch_size_token:  6000\n",
      "time cost vad:  1.8623309135437012\n"
     ]
    },
    {
     "name": "stderr",
     "output_type": "stream",
     "text": [
      "100%|██████████████████████████████████████████████████████████████████| 23/23 [00:25<00:00,  1.09s/it]\n"
     ]
    },
    {
     "name": "stdout",
     "output_type": "stream",
     "text": [
      "total time cost asr:  25.07044816017151\n"
     ]
    },
    {
     "name": "stderr",
     "output_type": "stream",
     "text": [
      "2023-09-25 14:50:10,088 - modelscope - INFO - Computing the result of ASR ...\n"
     ]
    },
    {
     "name": "stdout",
     "output_type": "stream",
     "text": [
      "time cost punc:  0.36828136444091797\n",
      "Lecture 10-1 Approximation Algorithms I.Compr.mp4.wav\n"
     ]
    },
    {
     "name": "stderr",
     "output_type": "stream",
     "text": [
      "2023-09-25 14:50:11,345 - modelscope - INFO - Decoding with wav files ...\n"
     ]
    },
    {
     "name": "stdout",
     "output_type": "stream",
     "text": [
      "batch_size_token:  6000\n",
      "time cost vad:  33.26580500602722\n"
     ]
    },
    {
     "name": "stderr",
     "output_type": "stream",
     "text": [
      "100%|████████████████████████████████████████████████████████████████| 513/513 [07:27<00:00,  1.15it/s]\n"
     ]
    },
    {
     "name": "stdout",
     "output_type": "stream",
     "text": [
      "total time cost asr:  447.15025424957275\n"
     ]
    },
    {
     "name": "stderr",
     "output_type": "stream",
     "text": [
      "2023-09-25 14:58:19,070 - modelscope - INFO - Computing the result of ASR ...\n"
     ]
    },
    {
     "name": "stdout",
     "output_type": "stream",
     "text": [
      "time cost punc:  5.720530986785889\n",
      "Lecture 10-2 Approximation Algorithms II.Compr.mp4.wav\n"
     ]
    },
    {
     "name": "stderr",
     "output_type": "stream",
     "text": [
      "2023-09-25 14:58:20,403 - modelscope - INFO - Decoding with wav files ...\n"
     ]
    },
    {
     "name": "stdout",
     "output_type": "stream",
     "text": [
      "batch_size_token:  6000\n",
      "time cost vad:  35.70213341712952\n"
     ]
    },
    {
     "name": "stderr",
     "output_type": "stream",
     "text": [
      "100%|████████████████████████████████████████████████████████████████| 537/537 [07:49<00:00,  1.14it/s]\n"
     ]
    },
    {
     "name": "stdout",
     "output_type": "stream",
     "text": [
      "total time cost asr:  469.00410628318787\n"
     ]
    },
    {
     "name": "stderr",
     "output_type": "stream",
     "text": [
      "2023-09-25 15:06:52,571 - modelscope - INFO - Computing the result of ASR ...\n"
     ]
    },
    {
     "name": "stdout",
     "output_type": "stream",
     "text": [
      "time cost punc:  5.625053405761719\n",
      "Lecture 11-1 Data Structure - Suffix Array I.Compr.mp4.wav\n"
     ]
    },
    {
     "name": "stderr",
     "output_type": "stream",
     "text": [
      "2023-09-25 15:06:53,200 - modelscope - INFO - Decoding with wav files ...\n"
     ]
    },
    {
     "name": "stdout",
     "output_type": "stream",
     "text": [
      "batch_size_token:  6000\n",
      "time cost vad:  17.409653186798096\n"
     ]
    },
    {
     "name": "stderr",
     "output_type": "stream",
     "text": [
      "100%|████████████████████████████████████████████████████████████████| 279/279 [03:49<00:00,  1.22it/s]\n"
     ]
    },
    {
     "name": "stdout",
     "output_type": "stream",
     "text": [
      "total time cost asr:  229.38381934165955\n"
     ]
    },
    {
     "name": "stderr",
     "output_type": "stream",
     "text": [
      "2023-09-25 15:11:04,021 - modelscope - INFO - Computing the result of ASR ...\n"
     ]
    },
    {
     "name": "stdout",
     "output_type": "stream",
     "text": [
      "time cost punc:  3.1239216327667236\n",
      "Lecture 11-2 Data Structure - Suffix Array II.Compr.mp4.wav\n"
     ]
    },
    {
     "name": "stderr",
     "output_type": "stream",
     "text": [
      "2023-09-25 15:11:04,798 - modelscope - INFO - Decoding with wav files ...\n"
     ]
    },
    {
     "name": "stdout",
     "output_type": "stream",
     "text": [
      "batch_size_token:  6000\n",
      "time cost vad:  19.4359450340271\n"
     ]
    },
    {
     "name": "stderr",
     "output_type": "stream",
     "text": [
      "100%|████████████████████████████████████████████████████████████████| 369/369 [04:33<00:00,  1.35it/s]\n"
     ]
    },
    {
     "name": "stdout",
     "output_type": "stream",
     "text": [
      "total time cost asr:  273.43865299224854\n"
     ]
    },
    {
     "name": "stderr",
     "output_type": "stream",
     "text": [
      "2023-09-25 15:16:02,560 - modelscope - INFO - Computing the result of ASR ...\n"
     ]
    },
    {
     "name": "stdout",
     "output_type": "stream",
     "text": [
      "time cost punc:  3.8772010803222656\n",
      "Lecture 11-3 Data Structure - Suffix Array III.Compr.mp4.wav\n"
     ]
    },
    {
     "name": "stderr",
     "output_type": "stream",
     "text": [
      "2023-09-25 15:16:02,818 - modelscope - INFO - Decoding with wav files ...\n"
     ]
    },
    {
     "name": "stdout",
     "output_type": "stream",
     "text": [
      "batch_size_token:  6000\n",
      "time cost vad:  6.728295803070068\n"
     ]
    },
    {
     "name": "stderr",
     "output_type": "stream",
     "text": [
      "100%|████████████████████████████████████████████████████████████████| 116/116 [01:35<00:00,  1.21it/s]\n"
     ]
    },
    {
     "name": "stdout",
     "output_type": "stream",
     "text": [
      "total time cost asr:  95.70548343658447\n"
     ]
    },
    {
     "name": "stderr",
     "output_type": "stream",
     "text": [
      "2023-09-25 15:17:47,090 - modelscope - INFO - Computing the result of ASR ...\n"
     ]
    },
    {
     "name": "stdout",
     "output_type": "stream",
     "text": [
      "time cost punc:  1.2990343570709229\n",
      "Lecture 11-4 Data Structure - BWT.Compr.mp4.wav\n"
     ]
    },
    {
     "name": "stderr",
     "output_type": "stream",
     "text": [
      "2023-09-25 15:17:47,841 - modelscope - INFO - Decoding with wav files ...\n"
     ]
    },
    {
     "name": "stdout",
     "output_type": "stream",
     "text": [
      "batch_size_token:  6000\n",
      "time cost vad:  19.879891633987427\n"
     ]
    },
    {
     "name": "stderr",
     "output_type": "stream",
     "text": [
      "100%|████████████████████████████████████████████████████████████████| 399/399 [04:33<00:00,  1.46it/s]\n"
     ]
    },
    {
     "name": "stdout",
     "output_type": "stream",
     "text": [
      "total time cost asr:  273.8367688655853\n"
     ]
    },
    {
     "name": "stderr",
     "output_type": "stream",
     "text": [
      "2023-09-25 15:22:46,471 - modelscope - INFO - Computing the result of ASR ...\n"
     ]
    },
    {
     "name": "stdout",
     "output_type": "stream",
     "text": [
      "time cost punc:  3.860795259475708\n",
      "Lecture 12 Multi-threaded Algorithms.Compr.mp4.wav\n"
     ]
    },
    {
     "name": "stderr",
     "output_type": "stream",
     "text": [
      "2023-09-25 15:22:47,393 - modelscope - INFO - Decoding with wav files ...\n"
     ]
    },
    {
     "name": "stdout",
     "output_type": "stream",
     "text": [
      "batch_size_token:  6000\n",
      "time cost vad:  25.98806667327881\n"
     ]
    },
    {
     "name": "stderr",
     "output_type": "stream",
     "text": [
      "100%|████████████████████████████████████████████████████████████████| 414/414 [05:54<00:00,  1.17it/s]\n"
     ]
    },
    {
     "name": "stdout",
     "output_type": "stream",
     "text": [
      "total time cost asr:  354.82157039642334\n"
     ]
    },
    {
     "name": "stderr",
     "output_type": "stream",
     "text": [
      "2023-09-25 15:29:14,773 - modelscope - INFO - Computing the result of ASR ...\n"
     ]
    },
    {
     "name": "stdout",
     "output_type": "stream",
     "text": [
      "time cost punc:  5.268284320831299\n",
      "Lecture 2-1 Optimal Local Alignment.Compr.mp4.wav\n"
     ]
    },
    {
     "name": "stderr",
     "output_type": "stream",
     "text": [
      "2023-09-25 15:29:15,332 - modelscope - INFO - Decoding with wav files ...\n"
     ]
    },
    {
     "name": "stdout",
     "output_type": "stream",
     "text": [
      "batch_size_token:  6000\n",
      "time cost vad:  17.817105293273926\n"
     ]
    },
    {
     "name": "stderr",
     "output_type": "stream",
     "text": [
      "100%|████████████████████████████████████████████████████████████████| 382/382 [04:04<00:00,  1.56it/s]\n"
     ]
    },
    {
     "name": "stdout",
     "output_type": "stream",
     "text": [
      "total time cost asr:  244.409654378891\n"
     ]
    },
    {
     "name": "stderr",
     "output_type": "stream",
     "text": [
      "2023-09-25 15:33:41,195 - modelscope - INFO - Computing the result of ASR ...\n"
     ]
    },
    {
     "name": "stdout",
     "output_type": "stream",
     "text": [
      "time cost punc:  2.8137989044189453\n",
      "Lecture 2-2 Affine Gap Global Alignment.Compr.mp4.wav\n"
     ]
    },
    {
     "name": "stderr",
     "output_type": "stream",
     "text": [
      "2023-09-25 15:33:41,887 - modelscope - INFO - Decoding with wav files ...\n"
     ]
    },
    {
     "name": "stdout",
     "output_type": "stream",
     "text": [
      "batch_size_token:  6000\n",
      "time cost vad:  20.676767826080322\n"
     ]
    },
    {
     "name": "stderr",
     "output_type": "stream",
     "text": [
      "100%|████████████████████████████████████████████████████████████████| 344/344 [04:25<00:00,  1.30it/s]\n"
     ]
    },
    {
     "name": "stdout",
     "output_type": "stream",
     "text": [
      "total time cost asr:  265.1949212551117\n"
     ]
    },
    {
     "name": "stderr",
     "output_type": "stream",
     "text": [
      "2023-09-25 15:38:31,730 - modelscope - INFO - Computing the result of ASR ...\n"
     ]
    },
    {
     "name": "stdout",
     "output_type": "stream",
     "text": [
      "time cost punc:  3.0168657302856445\n",
      "Lecture 2-3 Banded Dynamic Programming.Compr.mp4.wav\n"
     ]
    },
    {
     "name": "stderr",
     "output_type": "stream",
     "text": [
      "2023-09-25 15:38:32,286 - modelscope - INFO - Decoding with wav files ...\n"
     ]
    },
    {
     "name": "stdout",
     "output_type": "stream",
     "text": [
      "batch_size_token:  6000\n",
      "time cost vad:  15.32021975517273\n"
     ]
    },
    {
     "name": "stderr",
     "output_type": "stream",
     "text": [
      "100%|████████████████████████████████████████████████████████████████| 281/281 [03:28<00:00,  1.35it/s]\n"
     ]
    },
    {
     "name": "stdout",
     "output_type": "stream",
     "text": [
      "total time cost asr:  208.81037545204163\n"
     ]
    },
    {
     "name": "stderr",
     "output_type": "stream",
     "text": [
      "2023-09-25 15:42:19,876 - modelscope - INFO - Computing the result of ASR ...\n"
     ]
    },
    {
     "name": "stdout",
     "output_type": "stream",
     "text": [
      "time cost punc:  2.65852689743042\n",
      "Lecture 3-1 Sequence Alignment III.Compr.mp4.wav\n"
     ]
    },
    {
     "name": "stderr",
     "output_type": "stream",
     "text": [
      "2023-09-25 15:42:20,166 - modelscope - INFO - Decoding with wav files ...\n"
     ]
    },
    {
     "name": "stdout",
     "output_type": "stream",
     "text": [
      "batch_size_token:  6000\n",
      "time cost vad:  9.616201877593994\n"
     ]
    },
    {
     "name": "stderr",
     "output_type": "stream",
     "text": [
      "100%|████████████████████████████████████████████████████████████████| 192/192 [02:09<00:00,  1.48it/s]\n"
     ]
    },
    {
     "name": "stdout",
     "output_type": "stream",
     "text": [
      "total time cost asr:  129.81420016288757\n"
     ]
    },
    {
     "name": "stderr",
     "output_type": "stream",
     "text": [
      "2023-09-25 15:44:41,706 - modelscope - INFO - Computing the result of ASR ...\n"
     ]
    },
    {
     "name": "stdout",
     "output_type": "stream",
     "text": [
      "time cost punc:  1.5654191970825195\n",
      "Lecture 3-2 Linear Space Algorithm.Compr.mp4.wav\n"
     ]
    },
    {
     "name": "stderr",
     "output_type": "stream",
     "text": [
      "2023-09-25 15:44:42,387 - modelscope - INFO - Decoding with wav files ...\n"
     ]
    },
    {
     "name": "stdout",
     "output_type": "stream",
     "text": [
      "batch_size_token:  6000\n",
      "time cost vad:  19.007174491882324\n"
     ]
    },
    {
     "name": "stderr",
     "output_type": "stream",
     "text": [
      "100%|████████████████████████████████████████████████████████████████| 305/305 [04:17<00:00,  1.19it/s]\n"
     ]
    },
    {
     "name": "stdout",
     "output_type": "stream",
     "text": [
      "total time cost asr:  257.26933240890503\n"
     ]
    },
    {
     "name": "stderr",
     "output_type": "stream",
     "text": [
      "2023-09-25 15:49:23,086 - modelscope - INFO - Computing the result of ASR ...\n"
     ]
    },
    {
     "name": "stdout",
     "output_type": "stream",
     "text": [
      "time cost punc:  3.5219056606292725\n",
      "Lecture 3-3 Fast Database Search Algorithms.Compr.mp4.wav\n"
     ]
    },
    {
     "name": "stderr",
     "output_type": "stream",
     "text": [
      "2023-09-25 15:49:23,679 - modelscope - INFO - Decoding with wav files ...\n"
     ]
    },
    {
     "name": "stdout",
     "output_type": "stream",
     "text": [
      "batch_size_token:  6000\n",
      "time cost vad:  18.45532464981079\n"
     ]
    },
    {
     "name": "stderr",
     "output_type": "stream",
     "text": [
      "100%|████████████████████████████████████████████████████████████████| 278/278 [04:10<00:00,  1.11it/s]\n"
     ]
    },
    {
     "name": "stdout",
     "output_type": "stream",
     "text": [
      "total time cost asr:  250.9786558151245\n"
     ]
    },
    {
     "name": "stderr",
     "output_type": "stream",
     "text": [
      "2023-09-25 15:53:57,294 - modelscope - INFO - Computing the result of ASR ...\n"
     ]
    },
    {
     "name": "stdout",
     "output_type": "stream",
     "text": [
      "time cost punc:  3.2279140949249268\n",
      "Lecture 3-4 BALST Scores.Compr.mp4.wav\n"
     ]
    },
    {
     "name": "stderr",
     "output_type": "stream",
     "text": [
      "2023-09-25 15:53:57,652 - modelscope - INFO - Decoding with wav files ...\n"
     ]
    },
    {
     "name": "stdout",
     "output_type": "stream",
     "text": [
      "batch_size_token:  6000\n",
      "time cost vad:  9.77300238609314\n"
     ]
    },
    {
     "name": "stderr",
     "output_type": "stream",
     "text": [
      "100%|████████████████████████████████████████████████████████████████| 199/199 [02:16<00:00,  1.45it/s]\n"
     ]
    },
    {
     "name": "stdout",
     "output_type": "stream",
     "text": [
      "total time cost asr:  136.82321286201477\n"
     ]
    },
    {
     "name": "stderr",
     "output_type": "stream",
     "text": [
      "2023-09-25 15:56:26,570 - modelscope - INFO - Computing the result of ASR ...\n"
     ]
    },
    {
     "name": "stdout",
     "output_type": "stream",
     "text": [
      "time cost punc:  1.7300519943237305\n",
      "Lecture 4-1 Hash Functions.Compr.mp4.wav\n"
     ]
    },
    {
     "name": "stderr",
     "output_type": "stream",
     "text": [
      "2023-09-25 15:56:27,195 - modelscope - INFO - Decoding with wav files ...\n"
     ]
    },
    {
     "name": "stdout",
     "output_type": "stream",
     "text": [
      "batch_size_token:  6000\n",
      "time cost vad:  16.350306749343872\n"
     ]
    },
    {
     "name": "stderr",
     "output_type": "stream",
     "text": [
      "100%|████████████████████████████████████████████████████████████████| 317/317 [03:43<00:00,  1.42it/s]\n"
     ]
    },
    {
     "name": "stdout",
     "output_type": "stream",
     "text": [
      "total time cost asr:  223.54273080825806\n"
     ]
    },
    {
     "name": "stderr",
     "output_type": "stream",
     "text": [
      "2023-09-25 16:00:30,818 - modelscope - INFO - Computing the result of ASR ...\n"
     ]
    },
    {
     "name": "stdout",
     "output_type": "stream",
     "text": [
      "time cost punc:  2.838560104370117\n",
      "Lecture 4-2 Choosing good hash functions.Compr.mp4.wav\n"
     ]
    },
    {
     "name": "stderr",
     "output_type": "stream",
     "text": [
      "2023-09-25 16:00:31,294 - modelscope - INFO - Decoding with wav files ...\n"
     ]
    },
    {
     "name": "stdout",
     "output_type": "stream",
     "text": [
      "batch_size_token:  6000\n",
      "time cost vad:  12.78907823562622\n"
     ]
    },
    {
     "name": "stderr",
     "output_type": "stream",
     "text": [
      "100%|████████████████████████████████████████████████████████████████| 224/224 [02:55<00:00,  1.27it/s]\n"
     ]
    },
    {
     "name": "stdout",
     "output_type": "stream",
     "text": [
      "total time cost asr:  175.85392475128174\n"
     ]
    },
    {
     "name": "stderr",
     "output_type": "stream",
     "text": [
      "2023-09-25 16:03:42,948 - modelscope - INFO - Computing the result of ASR ...\n"
     ]
    },
    {
     "name": "stdout",
     "output_type": "stream",
     "text": [
      "time cost punc:  2.283047914505005\n",
      "Lecture 4-3 Universal Hash Functions.Compr.mp4.wav\n"
     ]
    },
    {
     "name": "stderr",
     "output_type": "stream",
     "text": [
      "2023-09-25 16:03:43,236 - modelscope - INFO - Decoding with wav files ...\n"
     ]
    },
    {
     "name": "stdout",
     "output_type": "stream",
     "text": [
      "batch_size_token:  6000\n",
      "time cost vad:  7.64099645614624\n"
     ]
    },
    {
     "name": "stderr",
     "output_type": "stream",
     "text": [
      "100%|████████████████████████████████████████████████████████████████| 149/149 [01:45<00:00,  1.41it/s]\n"
     ]
    },
    {
     "name": "stdout",
     "output_type": "stream",
     "text": [
      "total time cost asr:  105.79851627349854\n"
     ]
    },
    {
     "name": "stderr",
     "output_type": "stream",
     "text": [
      "2023-09-25 16:05:38,525 - modelscope - INFO - Computing the result of ASR ...\n"
     ]
    },
    {
     "name": "stdout",
     "output_type": "stream",
     "text": [
      "time cost punc:  1.319011926651001\n",
      "Lecture 4-4 Constructing 2-Universal Hash Family.Compr.mp4.wav\n"
     ]
    },
    {
     "name": "stderr",
     "output_type": "stream",
     "text": [
      "2023-09-25 16:05:38,821 - modelscope - INFO - Decoding with wav files ...\n"
     ]
    },
    {
     "name": "stdout",
     "output_type": "stream",
     "text": [
      "batch_size_token:  6000\n",
      "time cost vad:  9.28014850616455\n"
     ]
    },
    {
     "name": "stderr",
     "output_type": "stream",
     "text": [
      "100%|████████████████████████████████████████████████████████████████| 174/174 [02:04<00:00,  1.40it/s]\n"
     ]
    },
    {
     "name": "stdout",
     "output_type": "stream",
     "text": [
      "total time cost asr:  124.41343092918396\n"
     ]
    },
    {
     "name": "stderr",
     "output_type": "stream",
     "text": [
      "2023-09-25 16:07:54,576 - modelscope - INFO - Computing the result of ASR ...\n"
     ]
    },
    {
     "name": "stdout",
     "output_type": "stream",
     "text": [
      "time cost punc:  1.52473783493042\n",
      "Lecture 5-1 Open Addressing.Compr.mp4.wav\n"
     ]
    },
    {
     "name": "stderr",
     "output_type": "stream",
     "text": [
      "2023-09-25 16:07:55,276 - modelscope - INFO - Decoding with wav files ...\n"
     ]
    },
    {
     "name": "stdout",
     "output_type": "stream",
     "text": [
      "batch_size_token:  6000\n",
      "time cost vad:  21.093310356140137\n"
     ]
    },
    {
     "name": "stderr",
     "output_type": "stream",
     "text": [
      "100%|████████████████████████████████████████████████████████████████| 277/277 [04:54<00:00,  1.06s/it]\n"
     ]
    },
    {
     "name": "stdout",
     "output_type": "stream",
     "text": [
      "total time cost asr:  294.02795028686523\n"
     ]
    },
    {
     "name": "stderr",
     "output_type": "stream",
     "text": [
      "2023-09-25 16:13:15,608 - modelscope - INFO - Computing the result of ASR ...\n"
     ]
    },
    {
     "name": "stdout",
     "output_type": "stream",
     "text": [
      "time cost punc:  4.25659966468811\n",
      "Lecture 5-2 Perfect Hashing.Compr.mp4.wav\n"
     ]
    },
    {
     "name": "stderr",
     "output_type": "stream",
     "text": [
      "2023-09-25 16:13:16,152 - modelscope - INFO - Decoding with wav files ...\n"
     ]
    },
    {
     "name": "stdout",
     "output_type": "stream",
     "text": [
      "batch_size_token:  6000\n",
      "time cost vad:  15.897542953491211\n"
     ]
    },
    {
     "name": "stderr",
     "output_type": "stream",
     "text": [
      "100%|████████████████████████████████████████████████████████████████| 231/231 [03:36<00:00,  1.07it/s]\n"
     ]
    },
    {
     "name": "stdout",
     "output_type": "stream",
     "text": [
      "total time cost asr:  216.87925696372986\n"
     ]
    },
    {
     "name": "stderr",
     "output_type": "stream",
     "text": [
      "2023-09-25 16:17:12,527 - modelscope - INFO - Computing the result of ASR ...\n"
     ]
    },
    {
     "name": "stdout",
     "output_type": "stream",
     "text": [
      "time cost punc:  2.7874014377593994\n",
      "Lecture 5-3 Bloom Filter.Compr.mp4.wav\n"
     ]
    },
    {
     "name": "stderr",
     "output_type": "stream",
     "text": [
      "2023-09-25 16:17:13,078 - modelscope - INFO - Decoding with wav files ...\n"
     ]
    },
    {
     "name": "stdout",
     "output_type": "stream",
     "text": [
      "batch_size_token:  6000\n",
      "time cost vad:  15.410143375396729\n"
     ]
    },
    {
     "name": "stderr",
     "output_type": "stream",
     "text": [
      "100%|████████████████████████████████████████████████████████████████| 280/280 [03:32<00:00,  1.32it/s]\n"
     ]
    },
    {
     "name": "stdout",
     "output_type": "stream",
     "text": [
      "total time cost asr:  212.60849285125732\n"
     ]
    },
    {
     "name": "stderr",
     "output_type": "stream",
     "text": [
      "2023-09-25 16:21:04,837 - modelscope - INFO - Computing the result of ASR ...\n"
     ]
    },
    {
     "name": "stdout",
     "output_type": "stream",
     "text": [
      "time cost punc:  2.8867223262786865\n",
      "Lecture 6-1 MinHash I.Compr.mp4.wav\n"
     ]
    },
    {
     "name": "stderr",
     "output_type": "stream",
     "text": [
      "2023-09-25 16:21:05,623 - modelscope - INFO - Decoding with wav files ...\n"
     ]
    },
    {
     "name": "stdout",
     "output_type": "stream",
     "text": [
      "batch_size_token:  6000\n",
      "time cost vad:  21.441070795059204\n"
     ]
    },
    {
     "name": "stderr",
     "output_type": "stream",
     "text": [
      "100%|████████████████████████████████████████████████████████████████| 375/375 [04:50<00:00,  1.29it/s]\n"
     ]
    },
    {
     "name": "stdout",
     "output_type": "stream",
     "text": [
      "total time cost asr:  290.1673655509949\n"
     ]
    },
    {
     "name": "stderr",
     "output_type": "stream",
     "text": [
      "2023-09-25 16:26:22,292 - modelscope - INFO - Computing the result of ASR ...\n"
     ]
    },
    {
     "name": "stdout",
     "output_type": "stream",
     "text": [
      "time cost punc:  3.9601945877075195\n",
      "Lecture 6-2 MinHash II.Compr.mp4.wav\n"
     ]
    },
    {
     "name": "stderr",
     "output_type": "stream",
     "text": [
      "2023-09-25 16:26:22,977 - modelscope - INFO - Decoding with wav files ...\n"
     ]
    },
    {
     "name": "stdout",
     "output_type": "stream",
     "text": [
      "batch_size_token:  6000\n",
      "time cost vad:  18.509830474853516\n"
     ]
    },
    {
     "name": "stderr",
     "output_type": "stream",
     "text": [
      "100%|████████████████████████████████████████████████████████████████| 348/348 [04:21<00:00,  1.33it/s]\n"
     ]
    },
    {
     "name": "stdout",
     "output_type": "stream",
     "text": [
      "total time cost asr:  261.0112624168396\n"
     ]
    },
    {
     "name": "stderr",
     "output_type": "stream",
     "text": [
      "2023-09-25 16:31:06,935 - modelscope - INFO - Computing the result of ASR ...\n"
     ]
    },
    {
     "name": "stdout",
     "output_type": "stream",
     "text": [
      "time cost punc:  3.47723126411438\n",
      "Lecture 7-1 LSH 1.Compr.mp4.wav\n"
     ]
    },
    {
     "name": "stderr",
     "output_type": "stream",
     "text": [
      "2023-09-25 16:31:07,354 - modelscope - INFO - Decoding with wav files ...\n"
     ]
    },
    {
     "name": "stdout",
     "output_type": "stream",
     "text": [
      "batch_size_token:  6000\n",
      "time cost vad:  11.204442024230957\n"
     ]
    },
    {
     "name": "stderr",
     "output_type": "stream",
     "text": [
      "100%|████████████████████████████████████████████████████████████████| 153/153 [02:34<00:00,  1.01s/it]\n"
     ]
    },
    {
     "name": "stdout",
     "output_type": "stream",
     "text": [
      "total time cost asr:  154.1031723022461\n"
     ]
    },
    {
     "name": "stderr",
     "output_type": "stream",
     "text": [
      "2023-09-25 16:33:55,337 - modelscope - INFO - Computing the result of ASR ...\n"
     ]
    },
    {
     "name": "stdout",
     "output_type": "stream",
     "text": [
      "time cost punc:  1.9896817207336426\n",
      "Lecture 7-2 LSH 2.Compr.mp4.wav\n"
     ]
    },
    {
     "name": "stderr",
     "output_type": "stream",
     "text": [
      "2023-09-25 16:33:55,978 - modelscope - INFO - Decoding with wav files ...\n"
     ]
    },
    {
     "name": "stdout",
     "output_type": "stream",
     "text": [
      "batch_size_token:  6000\n",
      "time cost vad:  18.588594675064087\n"
     ]
    },
    {
     "name": "stderr",
     "output_type": "stream",
     "text": [
      "100%|████████████████████████████████████████████████████████████████| 233/233 [04:15<00:00,  1.10s/it]\n"
     ]
    },
    {
     "name": "stdout",
     "output_type": "stream",
     "text": [
      "total time cost asr:  255.1659984588623\n"
     ]
    },
    {
     "name": "stderr",
     "output_type": "stream",
     "text": [
      "2023-09-25 16:38:34,035 - modelscope - INFO - Computing the result of ASR ...\n"
     ]
    },
    {
     "name": "stdout",
     "output_type": "stream",
     "text": [
      "time cost punc:  3.3637616634368896\n",
      "Lecture 7-3 LSH 3.Compr.mp4.wav\n"
     ]
    },
    {
     "name": "stderr",
     "output_type": "stream",
     "text": [
      "2023-09-25 16:38:34,815 - modelscope - INFO - Decoding with wav files ...\n"
     ]
    },
    {
     "name": "stdout",
     "output_type": "stream",
     "text": [
      "batch_size_token:  6000\n",
      "time cost vad:  21.950623273849487\n"
     ]
    },
    {
     "name": "stderr",
     "output_type": "stream",
     "text": [
      "100%|████████████████████████████████████████████████████████████████| 288/288 [05:03<00:00,  1.06s/it]\n"
     ]
    },
    {
     "name": "stdout",
     "output_type": "stream",
     "text": [
      "total time cost asr:  303.91016006469727\n"
     ]
    },
    {
     "name": "stderr",
     "output_type": "stream",
     "text": [
      "2023-09-25 16:44:06,366 - modelscope - INFO - Computing the result of ASR ...\n"
     ]
    },
    {
     "name": "stdout",
     "output_type": "stream",
     "text": [
      "time cost punc:  4.440119028091431\n",
      "Lecture 8-1 LSH for Real Data Type 1.Compr.mp4.wav\n"
     ]
    },
    {
     "name": "stderr",
     "output_type": "stream",
     "text": [
      "2023-09-25 16:44:07,463 - modelscope - INFO - Decoding with wav files ...\n"
     ]
    },
    {
     "name": "stdout",
     "output_type": "stream",
     "text": [
      "batch_size_token:  6000\n",
      "time cost vad:  30.927660703659058\n"
     ]
    },
    {
     "name": "stderr",
     "output_type": "stream",
     "text": [
      "100%|████████████████████████████████████████████████████████████████| 474/474 [06:58<00:00,  1.13it/s]\n"
     ]
    },
    {
     "name": "stdout",
     "output_type": "stream",
     "text": [
      "total time cost asr:  418.90293288230896\n"
     ]
    },
    {
     "name": "stderr",
     "output_type": "stream",
     "text": [
      "2023-09-25 16:51:44,898 - modelscope - INFO - Computing the result of ASR ...\n"
     ]
    },
    {
     "name": "stdout",
     "output_type": "stream",
     "text": [
      "time cost punc:  6.091560363769531\n",
      "Lecture 8-2 LSH for Real Data Type 2.Compr.mp4.wav\n"
     ]
    },
    {
     "name": "stderr",
     "output_type": "stream",
     "text": [
      "2023-09-25 16:51:45,593 - modelscope - INFO - Decoding with wav files ...\n"
     ]
    },
    {
     "name": "stdout",
     "output_type": "stream",
     "text": [
      "batch_size_token:  6000\n",
      "time cost vad:  18.096437215805054\n"
     ]
    },
    {
     "name": "stderr",
     "output_type": "stream",
     "text": [
      "100%|████████████████████████████████████████████████████████████████| 250/250 [04:12<00:00,  1.01s/it]\n"
     ]
    },
    {
     "name": "stdout",
     "output_type": "stream",
     "text": [
      "total time cost asr:  252.4697403907776\n"
     ]
    },
    {
     "name": "stderr",
     "output_type": "stream",
     "text": [
      "2023-09-25 16:56:20,481 - modelscope - INFO - Computing the result of ASR ...\n"
     ]
    },
    {
     "name": "stdout",
     "output_type": "stream",
     "text": [
      "time cost punc:  3.3736562728881836\n",
      "Lecture 9-1 Multi-Probe LSH.Compr.mp4.wav\n"
     ]
    },
    {
     "name": "stderr",
     "output_type": "stream",
     "text": [
      "2023-09-25 16:56:21,643 - modelscope - INFO - Decoding with wav files ...\n"
     ]
    },
    {
     "name": "stdout",
     "output_type": "stream",
     "text": [
      "batch_size_token:  6000\n",
      "time cost vad:  32.15427088737488\n"
     ]
    },
    {
     "name": "stderr",
     "output_type": "stream",
     "text": [
      "100%|████████████████████████████████████████████████████████████████| 414/414 [07:16<00:00,  1.05s/it]\n"
     ]
    },
    {
     "name": "stdout",
     "output_type": "stream",
     "text": [
      "total time cost asr:  436.56032514572144\n"
     ]
    },
    {
     "name": "stderr",
     "output_type": "stream",
     "text": [
      "2023-09-25 17:04:18,250 - modelscope - INFO - Computing the result of ASR ...\n"
     ]
    },
    {
     "name": "stdout",
     "output_type": "stream",
     "text": [
      "time cost punc:  6.341898441314697\n",
      "Lecture 9-2 LSH for Clustering.Compr.mp4.wav\n"
     ]
    },
    {
     "name": "stderr",
     "output_type": "stream",
     "text": [
      "2023-09-25 17:04:19,438 - modelscope - INFO - Decoding with wav files ...\n"
     ]
    },
    {
     "name": "stdout",
     "output_type": "stream",
     "text": [
      "batch_size_token:  6000\n",
      "time cost vad:  33.69144415855408\n"
     ]
    },
    {
     "name": "stderr",
     "output_type": "stream",
     "text": [
      "100%|████████████████████████████████████████████████████████████████| 419/419 [07:34<00:00,  1.08s/it]\n"
     ]
    },
    {
     "name": "stdout",
     "output_type": "stream",
     "text": [
      "total time cost asr:  454.0099136829376\n"
     ]
    },
    {
     "name": "stderr",
     "output_type": "stream",
     "text": [
      "2023-09-25 17:12:35,397 - modelscope - INFO - Computing the result of ASR ...\n"
     ]
    },
    {
     "name": "stdout",
     "output_type": "stream",
     "text": [
      "time cost punc:  6.741626501083374\n"
     ]
    }
   ],
   "source": [
    "for i in fs:\n",
    "    print(i)\n",
    "    a=p(f'/home/frz/desk/asr/{i}',output_dir=f'/home/frz/desk/asr/666/{i}')\n",
    "    with open(f'/home/frz/desk/asr/666/{i}.txt','w') as f:\n",
    "        print(a,file=f)"
   ]
  },
  {
   "cell_type": "code",
   "execution_count": 23,
   "id": "c121b030-f16d-46ec-b78c-c5b3a8e1bfd5",
   "metadata": {
    "execution": {
     "iopub.execute_input": "2023-09-25T06:28:05.114460Z",
     "iopub.status.busy": "2023-09-25T06:28:05.114133Z",
     "iopub.status.idle": "2023-09-25T06:28:05.122393Z",
     "shell.execute_reply": "2023-09-25T06:28:05.121662Z",
     "shell.execute_reply.started": "2023-09-25T06:28:05.114443Z"
    },
    "tags": []
   },
   "outputs": [],
   "source": []
  },
  {
   "cell_type": "code",
   "execution_count": null,
   "id": "591f4876-a9c3-401f-b30a-ff67c9f21667",
   "metadata": {},
   "outputs": [],
   "source": []
  },
  {
   "cell_type": "code",
   "execution_count": null,
   "id": "f8894183-2d66-4845-b361-da85bfa8a861",
   "metadata": {},
   "outputs": [],
   "source": []
  },
  {
   "cell_type": "code",
   "execution_count": null,
   "id": "5fae264e-b6e6-4e70-8a87-eea3937c24cc",
   "metadata": {},
   "outputs": [],
   "source": []
  },
  {
   "cell_type": "code",
   "execution_count": null,
   "id": "606e57d6-517a-4dae-8e47-152bf6948a37",
   "metadata": {},
   "outputs": [],
   "source": []
  },
  {
   "cell_type": "code",
   "execution_count": null,
   "id": "f8597492-a079-4bfc-b80f-eb83311a8a8b",
   "metadata": {},
   "outputs": [],
   "source": []
  },
  {
   "cell_type": "code",
   "execution_count": null,
   "id": "8d4c5388-b799-480c-a46f-fea0b9f31166",
   "metadata": {},
   "outputs": [],
   "source": []
  },
  {
   "cell_type": "code",
   "execution_count": null,
   "id": "05d1beb5-6ddb-4b92-ac84-f21fde1f88c8",
   "metadata": {},
   "outputs": [],
   "source": []
  }
 ],
 "metadata": {
  "kernelspec": {
   "display_name": "Python 3 (ipykernel)",
   "language": "python",
   "name": "python3"
  },
  "language_info": {
   "codemirror_mode": {
    "name": "ipython",
    "version": 3
   },
   "file_extension": ".py",
   "mimetype": "text/x-python",
   "name": "python",
   "nbconvert_exporter": "python",
   "pygments_lexer": "ipython3",
   "version": "3.8.17"
  },
  "toc-autonumbering": true,
  "widgets": {
   "application/vnd.jupyter.widget-state+json": {
    "state": {},
    "version_major": 2,
    "version_minor": 0
   }
  }
 },
 "nbformat": 4,
 "nbformat_minor": 5
}
